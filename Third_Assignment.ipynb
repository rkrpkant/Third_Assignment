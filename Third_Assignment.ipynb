{
  "nbformat": 4,
  "nbformat_minor": 0,
  "metadata": {
    "colab": {
      "provenance": []
    },
    "kernelspec": {
      "name": "python3",
      "display_name": "Python 3"
    },
    "language_info": {
      "name": "python"
    }
  },
  "cells": [
    {
      "cell_type": "code",
      "source": [
        "#Q1.Create a NumPy array 'arr' of integers from 0 to 5 and print its data type.\n",
        "\n",
        "#Ans. The data type of the NumPy array arr is int64.\n",
        "\n",
        "import numpy as np\n",
        "\n",
        "# Create a NumPy array 'arr' with integers from 0 to 5\n",
        "arr = np.arange(6)\n",
        "\n",
        "# Print the data type of the array\n",
        "arr_dtype = arr.dtype\n",
        "arr_dtype\n"
      ],
      "metadata": {
        "colab": {
          "base_uri": "https://localhost:8080/"
        },
        "id": "Q4zZlpViMDCx",
        "outputId": "e0d3ac7f-7bd3-494d-f1d4-59beac34a848"
      },
      "execution_count": 1,
      "outputs": [
        {
          "output_type": "execute_result",
          "data": {
            "text/plain": [
              "dtype('int64')"
            ]
          },
          "metadata": {},
          "execution_count": 1
        }
      ]
    },
    {
      "cell_type": "code",
      "source": [
        "# Q2. Given a NumPy array 'arr', check if its data type is float64.\n",
        "# arr = np.array([1.5, 2.6, 3.7])\n",
        "\n",
        "# Ans.\n",
        "arr = np.array([1.5, 2.6, 3.7])\n",
        "\n",
        "\n",
        "is_float64 = arr.dtype == np.float64\n",
        "is_float64\n"
      ],
      "metadata": {
        "colab": {
          "base_uri": "https://localhost:8080/"
        },
        "id": "k-27QXmPMH8h",
        "outputId": "a6ce4ea2-ea0a-4ec2-be54-f5dc0a7b22ba"
      },
      "execution_count": 2,
      "outputs": [
        {
          "output_type": "execute_result",
          "data": {
            "text/plain": [
              "True"
            ]
          },
          "metadata": {},
          "execution_count": 2
        }
      ]
    },
    {
      "cell_type": "code",
      "source": [
        "# Q3.  Create a NumPy array 'arr' with a data type of complex128 containing three complex numbers.\n",
        "# Ans.\n",
        "\n",
        "arr = np.array([1+2j, 3+4j, 5+6j], dtype=np.complex128)\n",
        "\n",
        "# Display the array\n",
        "arr\n"
      ],
      "metadata": {
        "colab": {
          "base_uri": "https://localhost:8080/"
        },
        "id": "Eb6E9C3ANA30",
        "outputId": "a6974add-feef-4631-aa48-d5c865ce64d7"
      },
      "execution_count": 3,
      "outputs": [
        {
          "output_type": "execute_result",
          "data": {
            "text/plain": [
              "array([1.+2.j, 3.+4.j, 5.+6.j])"
            ]
          },
          "metadata": {},
          "execution_count": 3
        }
      ]
    },
    {
      "cell_type": "code",
      "source": [
        "# Q4. Convert an existing NumPy array 'arr' of integers to float32 data type.\n",
        "# Ans.\n",
        "\n",
        "arr_int = np.array([1, 2, 3, 4, 5], dtype=np.int32)\n",
        "\n",
        "\n",
        "arr_float32 = arr_int.astype(np.float32)\n",
        "\n",
        "\n",
        "arr_float32, arr_float32.dtype\n"
      ],
      "metadata": {
        "colab": {
          "base_uri": "https://localhost:8080/"
        },
        "id": "Jm3hNvIONTMX",
        "outputId": "27612148-6cac-44ca-d8a8-2cd94d997cd4"
      },
      "execution_count": 4,
      "outputs": [
        {
          "output_type": "execute_result",
          "data": {
            "text/plain": [
              "(array([1., 2., 3., 4., 5.], dtype=float32), dtype('float32'))"
            ]
          },
          "metadata": {},
          "execution_count": 4
        }
      ]
    },
    {
      "cell_type": "code",
      "source": [
        "# Q5. Given a NumPy array 'arr' with float64 data type, convert it to float32 to reduce decimal precision.\n",
        "\n",
        "# Ans. To convert a NumPy array arr from float64 to float32 and reduce decimal precision, you can use the .astype() method:\n",
        "\n",
        "arr = np.array([1.123456789, 2.987654321, 3.456789012], dtype=np.float64)\n",
        "\n",
        "\n",
        "arr_float32 = arr.astype(np.float32)\n",
        "\n",
        "\n",
        "print(arr_float32)\n"
      ],
      "metadata": {
        "colab": {
          "base_uri": "https://localhost:8080/"
        },
        "id": "YwfpwJkMNq1C",
        "outputId": "d60515a5-4970-418f-de2f-8f31a5701e1d"
      },
      "execution_count": 5,
      "outputs": [
        {
          "output_type": "stream",
          "name": "stdout",
          "text": [
            "[1.1234568 2.9876542 3.456789 ]\n"
          ]
        }
      ]
    },
    {
      "cell_type": "code",
      "source": [
        "# Q6.Write a function array_attributes that takes a NumPy array as input and returns its shape, size, and data type.\n",
        "# Ans.\n",
        "\n",
        "def array_attributes(arr):\n",
        "    shape = arr.shape\n",
        "    size = arr.size\n",
        "    data_type = arr.dtype\n",
        "    return shape, size, data_type"
      ],
      "metadata": {
        "id": "dB-O4hYEOR8d"
      },
      "execution_count": 6,
      "outputs": []
    },
    {
      "cell_type": "code",
      "source": [
        "# Q7. Create a function array_dimension that takes a NumPy array as input and returns its dimensionality.\n",
        "\n",
        "# Ans.\n",
        "def array_dimension(arr):\n",
        "    return arr.ndim\n",
        "\n",
        "# Example usage\n",
        "arr = np.array([[1, 2, 3], [4, 5, 6]])\n",
        "print(array_dimension(arr))  # Output: 2 (since it's a 2D array)\n",
        "\n"
      ],
      "metadata": {
        "colab": {
          "base_uri": "https://localhost:8080/"
        },
        "id": "S3H1ppWdOnv5",
        "outputId": "1a61977a-f8cd-4375-8ea9-4435bdf4efa9"
      },
      "execution_count": 3,
      "outputs": [
        {
          "output_type": "stream",
          "name": "stdout",
          "text": [
            "2\n"
          ]
        }
      ]
    },
    {
      "cell_type": "code",
      "source": [
        "#Q8.Design a function item_size_info that takes a NumPy array as input and returns the item size and the total size in bytes.\n",
        "\n",
        "#Ans.You can design the item_size_info function using the .itemsize and .nbytes attributes of a NumPy array.\n",
        "# The .itemsize gives the size (in bytes) of each element of the array, and .nbytes gives the total number of bytes consumed by the entire array.\n",
        "# Here's how the function would look:\n",
        "\n",
        "def item_size_info(arr):\n",
        "    item_size = arr.itemsize\n",
        "    total_size = arr.nbytes\n",
        "    return item_size, total_size\n",
        "\n",
        "# Example usage\n",
        "arr = np.array([[1, 2, 3], [4, 5, 6]], dtype=np.float64)\n",
        "item_size, total_size = item_size_info(arr)\n",
        "\n",
        "print(f\"Item size: {item_size} bytes\")\n",
        "print(f\"Total size: {total_size} bytes\")"
      ],
      "metadata": {
        "colab": {
          "base_uri": "https://localhost:8080/"
        },
        "id": "AyXs9TqHPfaw",
        "outputId": "ca727d58-52d0-4fbc-f5a1-dd1d43072df0"
      },
      "execution_count": 2,
      "outputs": [
        {
          "output_type": "stream",
          "name": "stdout",
          "text": [
            "Item size: 8 bytes\n",
            "Total size: 48 bytes\n"
          ]
        }
      ]
    },
    {
      "cell_type": "code",
      "source": [
        "#Q9.Create a function array_strides that takes a NumPy array as input and returns the strides of the array.\n",
        "\n",
        "#Ans.The strides attribute of a NumPy array gives you the number of bytes to step in each dimension when traversing the array.\n",
        "#  Here's a function array_strides that takes a NumPy array as input and returns its strides:\n",
        "\n",
        "\n",
        "def array_strides(arr):\n",
        "    return arr.strides\n",
        "\n",
        "# Example usage\n",
        "arr = np.array([[1, 2, 3], [4, 5, 6]], dtype=np.float64)\n",
        "strides = array_strides(arr)\n",
        "\n",
        "print(f\"Strides: {strides}\")\n"
      ],
      "metadata": {
        "colab": {
          "base_uri": "https://localhost:8080/"
        },
        "id": "6miXkgeVP4jQ",
        "outputId": "d5f3ab4e-e48c-479f-d2ed-f029ac503aa4"
      },
      "execution_count": 9,
      "outputs": [
        {
          "output_type": "stream",
          "name": "stdout",
          "text": [
            "Strides: (24, 8)\n"
          ]
        }
      ]
    },
    {
      "cell_type": "code",
      "source": [
        ""
      ],
      "metadata": {
        "id": "NvHtEYZ7P7gz"
      },
      "execution_count": null,
      "outputs": []
    },
    {
      "cell_type": "code",
      "source": [
        "# Q10. Design a function shape_stride_relationship that takes a NumPy array as input and returns the shape\n",
        "# and strides of the array.\n",
        "\n",
        "# Ans. To design the function shape_stride_relationship that returns both the shape and the strides of a NumPy array,\n",
        "# you can use the .shape and .strides attributes of the array. Here's how you can implement the function:\n",
        "\n",
        "def shape_stride_relationship(arr):\n",
        "    shape = arr.shape  # Shape of the array\n",
        "    strides = arr.strides  # Strides of the array\n",
        "    return shape, strides\n",
        "\n",
        "# Example usage\n",
        "arr = np.array([[1, 2, 3], [4, 5, 6]], dtype=np.float64)\n",
        "shape, strides = shape_stride_relationship(arr)\n",
        "\n",
        "print(f\"Shape: {shape}\")\n",
        "print(f\"Strides: {strides}\")\n"
      ],
      "metadata": {
        "colab": {
          "base_uri": "https://localhost:8080/"
        },
        "id": "GitZ3hEJZzll",
        "outputId": "111cc361-5e96-40ae-b8ab-c8d2b1ce17ca"
      },
      "execution_count": 4,
      "outputs": [
        {
          "output_type": "stream",
          "name": "stdout",
          "text": [
            "Shape: (2, 3)\n",
            "Strides: (24, 8)\n"
          ]
        }
      ]
    },
    {
      "cell_type": "code",
      "source": [
        "# Q11. Create a function `create_zeros_array` that takes an integer `n` as input and returns a NumPy array of\n",
        "# zeros with `n` elements.\n",
        "\n",
        "# Ans. You can create a function create_zeros_array that generates a NumPy array of zeros with n elements using np.zeros().\n",
        "# Here's the function implementation:\n",
        "\n",
        "def create_zeros_array(n):\n",
        "    return np.zeros(n)\n",
        "\n",
        "# Example usage\n",
        "n = 5\n",
        "zeros_array = create_zeros_array(n)\n",
        "print(zeros_array)\n"
      ],
      "metadata": {
        "colab": {
          "base_uri": "https://localhost:8080/"
        },
        "id": "c6ATHBGKaIVZ",
        "outputId": "207e8fda-b295-493a-80d8-94560af027e4"
      },
      "execution_count": 5,
      "outputs": [
        {
          "output_type": "stream",
          "name": "stdout",
          "text": [
            "[0. 0. 0. 0. 0.]\n"
          ]
        }
      ]
    },
    {
      "cell_type": "code",
      "source": [
        "# Q12.Write a function `create_ones_matrix` that takes integers `rows` and `cols` as inputs and generates a 2D\n",
        "# NumPy array filled with ones of size `rows x cols`.\n",
        "\n",
        "# Ans. You can create a function create_ones_matrix that takes rows and cols as inputs and generates a 2D NumPy array filled with ones using np.ones().\n",
        "# Here's the function implementation:\n",
        "\n",
        "\n",
        "def create_ones_matrix(rows, cols):\n",
        "    return np.ones((rows, cols))\n",
        "\n",
        "# Example usage\n",
        "rows = 3\n",
        "cols = 4\n",
        "ones_matrix = create_ones_matrix(rows, cols)\n",
        "print(ones_matrix)\n"
      ],
      "metadata": {
        "colab": {
          "base_uri": "https://localhost:8080/"
        },
        "id": "EYPhE4d9afBm",
        "outputId": "3e21ed85-42a2-4228-8b40-4f956731f683"
      },
      "execution_count": 6,
      "outputs": [
        {
          "output_type": "stream",
          "name": "stdout",
          "text": [
            "[[1. 1. 1. 1.]\n",
            " [1. 1. 1. 1.]\n",
            " [1. 1. 1. 1.]]\n"
          ]
        }
      ]
    },
    {
      "cell_type": "code",
      "source": [
        "#Q13. Write a function `generate_range_array` that takes three integers start, stop, and step as arguments and\n",
        "# creates a NumPy array with a range starting from `start`, ending at stop (exclusive), and with the specified\n",
        "# `step`.\n",
        "\n",
        "#Ans. You can create the function generate_range_array using np.arange(), which generates a NumPy array with values starting from start, ending at stop (exclusive), and incrementing by step.\n",
        "# Here's how you can implement it:\n",
        "\n",
        "def generate_range_array(start, stop, step):\n",
        "    return np.arange(start, stop, step)\n",
        "\n",
        "# Example usage\n",
        "start = 2\n",
        "stop = 10\n",
        "step = 2\n",
        "range_array = generate_range_array(start, stop, step)\n",
        "print(range_array)\n"
      ],
      "metadata": {
        "colab": {
          "base_uri": "https://localhost:8080/"
        },
        "id": "8rfWTmJPaxqi",
        "outputId": "109e7fba-1124-423e-db23-2de0760d017c"
      },
      "execution_count": 7,
      "outputs": [
        {
          "output_type": "stream",
          "name": "stdout",
          "text": [
            "[2 4 6 8]\n"
          ]
        }
      ]
    },
    {
      "cell_type": "code",
      "source": [
        "# Q14. Design a function `generate_linear_space` that takes two floats `start`, `stop`, and an integer `num` as\n",
        "# arguments and generates a NumPy array with num equally spaced values between `start` and `stop`\n",
        "# (inclusive).\n",
        "\n",
        "# Ans. You can use np.linspace() to generate an array with num equally spaced values between start and stop (inclusive).\n",
        "# Here's the function generate_linear_space:\n",
        "\n",
        "\n",
        "def generate_linear_space(start, stop, num):\n",
        "    return np.linspace(start, stop, num)\n",
        "\n",
        "# Example usage\n",
        "start = 1.0\n",
        "stop = 5.0\n",
        "num = 5\n",
        "linear_space_array = generate_linear_space(start, stop, num)\n",
        "print(linear_space_array)\n"
      ],
      "metadata": {
        "colab": {
          "base_uri": "https://localhost:8080/"
        },
        "id": "3E0dPEqabDwm",
        "outputId": "ae713038-748e-4bbd-e302-88d06646aa9a"
      },
      "execution_count": 12,
      "outputs": [
        {
          "output_type": "stream",
          "name": "stdout",
          "text": [
            "[1. 2. 3. 4. 5.]\n"
          ]
        }
      ]
    },
    {
      "cell_type": "code",
      "source": [
        "# Q15. Create a function `create_identity_matrix` that takes an integer `n` as input and generates a square\n",
        "# identity matrix of size `n x n` using `numpy.eye`.\n",
        "\n",
        "# Ans. You can use the np.eye() function to create an identity matrix. Here's how you can implement the create_identity_matrix function:\n",
        "\n",
        "\n",
        "def create_identity_matrix(n):\n",
        "    return np.eye(n)\n",
        "\n",
        "# Example usage\n",
        "n = 4\n",
        "identity_matrix = create_identity_matrix(n)\n",
        "print(identity_matrix)\n"
      ],
      "metadata": {
        "colab": {
          "base_uri": "https://localhost:8080/"
        },
        "id": "3uj-rfn0bThn",
        "outputId": "741421dc-bd0e-4be1-b6f6-a343941651d1"
      },
      "execution_count": 13,
      "outputs": [
        {
          "output_type": "stream",
          "name": "stdout",
          "text": [
            "[[1. 0. 0. 0.]\n",
            " [0. 1. 0. 0.]\n",
            " [0. 0. 1. 0.]\n",
            " [0. 0. 0. 1.]]\n"
          ]
        }
      ]
    },
    {
      "cell_type": "code",
      "source": [
        "# Q16. Write a function that takes a Python list and converts it into a NumPy array.\n",
        "\n",
        "# Ans. You can easily convert a Python list into a NumPy array using the np.array() function. Here's how you can implement the function:\n",
        "\n",
        "def list_to_numpy_array(py_list):\n",
        "    return np.array(py_list)\n",
        "\n",
        "# Example usage\n",
        "py_list = [1, 2, 3, 4, 5]\n",
        "numpy_array = list_to_numpy_array(py_list)\n",
        "print(numpy_array)\n"
      ],
      "metadata": {
        "colab": {
          "base_uri": "https://localhost:8080/"
        },
        "id": "9I6vaebqbkD_",
        "outputId": "be099ecc-474c-44f1-b47c-0aaf3d64175c"
      },
      "execution_count": 11,
      "outputs": [
        {
          "output_type": "stream",
          "name": "stdout",
          "text": [
            "[1 2 3 4 5]\n"
          ]
        }
      ]
    },
    {
      "cell_type": "code",
      "source": [
        "# Q17. Create a NumPy array and demonstrate the use of `numpy.view` to create a new array object with the\n",
        "# same data.\n",
        "\n",
        "# Ans. You can use the numpy.view() method to create a new array object that shares the same data as the original array but may have a different shape, data type, or other properties.\n",
        "# Here's an example of how to use numpy.view():\n",
        "\n",
        "# Create a NumPy array\n",
        "arr = np.array([1, 2, 3, 4, 5])\n",
        "\n",
        "# Use .view() to create a new array object with the same data\n",
        "view_arr = arr.view()\n",
        "\n",
        "# Modify an element in the view array to show that it affects the original array\n",
        "view_arr[0] = 100\n",
        "\n",
        "# Print the original and view arrays\n",
        "print(\"Original array:\", arr)\n",
        "print(\"View array:\", view_arr)\n"
      ],
      "metadata": {
        "colab": {
          "base_uri": "https://localhost:8080/"
        },
        "id": "JDh8JBYOby7T",
        "outputId": "85a9c6ab-d453-44c6-c17e-fc9c3a38304b"
      },
      "execution_count": 14,
      "outputs": [
        {
          "output_type": "stream",
          "name": "stdout",
          "text": [
            "Original array: [100   2   3   4   5]\n",
            "View array: [100   2   3   4   5]\n"
          ]
        }
      ]
    },
    {
      "cell_type": "code",
      "source": [
        "# Q18. Write a function that takes two NumPy arrays and concatenates them along a specified axis.\n",
        "\n",
        "# Ans. Here's a function that takes two NumPy arrays and concatenates them along a specified axis:\n",
        "\n",
        "def concatenate_arrays(arr1, arr2, axis=0):\n",
        "    \"\"\"\n",
        "    Concatenate two NumPy arrays along the specified axis.\n",
        "\n",
        "    Parameters:\n",
        "    arr1 (numpy.ndarray): First array to concatenate.\n",
        "    arr2 (numpy.ndarray): Second array to concatenate.\n",
        "    axis (int): Axis along which to concatenate. Default is 0.\n",
        "\n",
        "    Returns:\n",
        "    numpy.ndarray: Concatenated array.\n",
        "    \"\"\"\n",
        "    return np.concatenate((arr1, arr2), axis=axis)\n",
        "\n",
        "\n"
      ],
      "metadata": {
        "id": "YpqnCvsQca0y"
      },
      "execution_count": 18,
      "outputs": []
    },
    {
      "cell_type": "code",
      "source": [
        "# Example(Q18)\n",
        "arr1 = np.array([[1, 2], [3, 4]])\n",
        "arr2 = np.array([[5, 6], [7, 8]])\n",
        "\n",
        "result = concatenate_arrays(arr1, arr2, axis=0)\n",
        "print(result)"
      ],
      "metadata": {
        "colab": {
          "base_uri": "https://localhost:8080/"
        },
        "id": "Z9AdSihbceMk",
        "outputId": "0fb5341d-d555-48ac-daa7-7b9b3604337b"
      },
      "execution_count": 19,
      "outputs": [
        {
          "output_type": "stream",
          "name": "stdout",
          "text": [
            "[[1 2]\n",
            " [3 4]\n",
            " [5 6]\n",
            " [7 8]]\n"
          ]
        }
      ]
    },
    {
      "cell_type": "code",
      "source": [
        "# Q19. Create two NumPy arrays with different shapes and concatenate them horizontally using `numpy.\n",
        "#  concatenate`.\n",
        "\n",
        "# Ans. To concatenate two NumPy arrays horizontally using numpy.concatenate, they must have the same number of rows (i.e., the same first dimension). If the shapes are incompatible, you'll get an error.\n",
        "# Here's an example:\n",
        "\n",
        "# Create two NumPy arrays with different shapes\n",
        "array1 = np.array([[1, 2, 3], [4, 5, 6]])  # Shape (2, 3)\n",
        "array2 = np.array([[7, 8], [9, 10]])       # Shape (2, 2)\n",
        "\n",
        "# Concatenate horizontally (axis=1)\n",
        "result = np.concatenate((array1, array2), axis=1)\n",
        "\n",
        "print(\"Concatenated Array:\")\n",
        "print(result)\n"
      ],
      "metadata": {
        "colab": {
          "base_uri": "https://localhost:8080/"
        },
        "id": "4YoBzYZAdkAY",
        "outputId": "a1ea4196-bf9c-448e-8de8-051c6d62f50d"
      },
      "execution_count": 20,
      "outputs": [
        {
          "output_type": "stream",
          "name": "stdout",
          "text": [
            "Concatenated Array:\n",
            "[[ 1  2  3  7  8]\n",
            " [ 4  5  6  9 10]]\n"
          ]
        }
      ]
    },
    {
      "cell_type": "code",
      "source": [
        "# Q20. Write a function that vertically stacks multiple NumPy arrays given as a list.\n",
        "\n",
        "# Ans. Here's a function that vertically stacks multiple NumPy arrays using numpy.vstack:\n",
        "\n",
        "def vertical_stack(arrays):\n",
        "    \"\"\"\n",
        "    Vertically stacks multiple NumPy arrays.\n",
        "\n",
        "    Parameters:\n",
        "    arrays (list of np.ndarray): A list of NumPy arrays to be stacked.\n",
        "\n",
        "    Returns:\n",
        "    np.ndarray: A single vertically stacked NumPy array.\n",
        "    \"\"\"\n",
        "    return np.vstack(arrays)\n",
        "\n",
        "# Example usage:\n",
        "array1 = np.array([[1, 2, 3]])\n",
        "array2 = np.array([[4, 5, 6]])\n",
        "array3 = np.array([[7, 8, 9]])\n",
        "\n",
        "result = vertical_stack([array1, array2, array3])\n",
        "print(result)\n"
      ],
      "metadata": {
        "colab": {
          "base_uri": "https://localhost:8080/"
        },
        "id": "lFc2vR6TeLZW",
        "outputId": "0d260e33-48cb-4848-d03d-5a19db0394ea"
      },
      "execution_count": 21,
      "outputs": [
        {
          "output_type": "stream",
          "name": "stdout",
          "text": [
            "[[1 2 3]\n",
            " [4 5 6]\n",
            " [7 8 9]]\n"
          ]
        }
      ]
    },
    {
      "cell_type": "code",
      "source": [
        "# Q21. Write a Python function using NumPy to create an array of integers within a specified range (inclusive)\n",
        "# with a given step size.\n",
        "\n",
        "# Ans. Here's a Python function using NumPy to create an array of integers within a specified range (inclusive) with a given step size:\n",
        "\n",
        "def create_range_array(start, end, step):\n",
        "    \"\"\"\n",
        "    Creates a NumPy array of integers within a specified range (inclusive) with a given step size.\n",
        "\n",
        "    Parameters:\n",
        "    start (int): The starting value of the range.\n",
        "    end (int): The ending value (inclusive).\n",
        "    step (int): The step size between consecutive values.\n",
        "\n",
        "    Returns:\n",
        "    np.ndarray: A NumPy array containing the sequence.\n",
        "    \"\"\"\n",
        "    return np.arange(start, end + step, step)\n",
        "\n",
        "# Example usage:\n",
        "result = create_range_array(1, 10, 2)\n",
        "print(result)\n"
      ],
      "metadata": {
        "colab": {
          "base_uri": "https://localhost:8080/"
        },
        "id": "Ed_2S7IaelLR",
        "outputId": "dcd7e5eb-2bc5-44f5-91fc-be6ec837da90"
      },
      "execution_count": 22,
      "outputs": [
        {
          "output_type": "stream",
          "name": "stdout",
          "text": [
            "[ 1  3  5  7  9 11]\n"
          ]
        }
      ]
    },
    {
      "cell_type": "code",
      "source": [
        "# Q22. Write a Python function using NumPy to generate an array of 10 equally spaced values between 0 and 1\n",
        "# (inclusive).\n",
        "\n",
        "# Ans. Here's a Python function using NumPy to generate an array of 10 equally spaced values between 0 and 1 (inclusive):\n",
        "\n",
        "def generate_linspace_array():\n",
        "    \"\"\"\n",
        "    Generates a NumPy array of 10 equally spaced values between 0 and 1 (inclusive).\n",
        "\n",
        "    Returns:\n",
        "    np.ndarray: A NumPy array containing 10 equally spaced values.\n",
        "    \"\"\"\n",
        "    return np.linspace(0, 1, 10)\n",
        "\n",
        "# Example usage:\n",
        "result = generate_linspace_array()\n",
        "print(result)\n"
      ],
      "metadata": {
        "colab": {
          "base_uri": "https://localhost:8080/"
        },
        "id": "kc_KmbH5e7FJ",
        "outputId": "f274e923-00fc-4f88-d6ea-6d6d20b7bc69"
      },
      "execution_count": 23,
      "outputs": [
        {
          "output_type": "stream",
          "name": "stdout",
          "text": [
            "[0.         0.11111111 0.22222222 0.33333333 0.44444444 0.55555556\n",
            " 0.66666667 0.77777778 0.88888889 1.        ]\n"
          ]
        }
      ]
    },
    {
      "cell_type": "code",
      "source": [
        "# Q23. Write a Python function using NumPy to create an array of 5 logarithmically spaced values between 1 and\n",
        "# 1000 (inclusive).\n",
        "\n",
        "# Ans. Here's a Python function using NumPy to create an array of 5 logarithmically spaced values between 1 and 1000 (inclusive):\n",
        "\n",
        "def generate_logspace_array():\n",
        "    \"\"\"\n",
        "    Generates a NumPy array of 5 logarithmically spaced values between 1 and 1000 (inclusive).\n",
        "\n",
        "    Returns:\n",
        "    np.ndarray: A NumPy array containing 5 logarithmically spaced values.\n",
        "    \"\"\"\n",
        "    return np.logspace(0, 3, 5)  # 10^0 to 10^3, with 5 values\n",
        "\n",
        "# Example usage:\n",
        "result = generate_logspace_array()\n",
        "print(result)\n"
      ],
      "metadata": {
        "colab": {
          "base_uri": "https://localhost:8080/"
        },
        "id": "HiAkgY7CfPGf",
        "outputId": "9bbaa27d-9a05-483b-e9c0-38f993ea7af6"
      },
      "execution_count": 24,
      "outputs": [
        {
          "output_type": "stream",
          "name": "stdout",
          "text": [
            "[   1.            5.62341325   31.6227766   177.827941   1000.        ]\n"
          ]
        }
      ]
    },
    {
      "cell_type": "code",
      "source": [
        "# Q24. Create a Pandas DataFrame using a NumPy array that contains 5 rows and 3 columns, where the values\n",
        "# are random integers between 1 and 100.\n",
        "\n",
        "# Ans. Here's how you can create a Pandas DataFrame using a NumPy array with 5 rows and 3 columns, filled with random integers between 1 and 100:\n",
        "\n",
        "import numpy as np\n",
        "import pandas as pd\n",
        "\n",
        "# Generate a 5x3 array of random integers between 1 and 100\n",
        "data = np.random.randint(1, 101, size=(5, 3))\n",
        "\n",
        "# Create a Pandas DataFrame\n",
        "df = pd.DataFrame(data, columns=['A', 'B', 'C'])\n",
        "\n",
        "# Display the DataFrame\n",
        "print(df)\n"
      ],
      "metadata": {
        "colab": {
          "base_uri": "https://localhost:8080/"
        },
        "id": "Lwuzh2SlfhS6",
        "outputId": "0af51fa8-d7ea-443a-d0f7-9e999e5f4776"
      },
      "execution_count": 25,
      "outputs": [
        {
          "output_type": "stream",
          "name": "stdout",
          "text": [
            "    A   B   C\n",
            "0  21  70  11\n",
            "1  85  33  53\n",
            "2  30  73  57\n",
            "3  46  10   3\n",
            "4  69  93  80\n"
          ]
        }
      ]
    },
    {
      "cell_type": "code",
      "source": [
        "# Q25. Write a function that takes a Pandas DataFrame and replaces all negative values in a specific column\n",
        "# with zeros. Use NumPy operations within the Pandas DataFrame.\n",
        "\n",
        "# Ans. Here's a function that replaces all negative values in a specific column of a Pandas DataFrame with zeros using NumPy operations:\n",
        "\n",
        "def replace_negatives_with_zero(df, column_name):\n",
        "    \"\"\"\n",
        "    Replaces all negative values in a specific column of a Pandas DataFrame with zeros.\n",
        "\n",
        "    Parameters:\n",
        "    df (pd.DataFrame): The input DataFrame.\n",
        "    column_name (str): The name of the column to modify.\n",
        "\n",
        "    Returns:\n",
        "    pd.DataFrame: A new DataFrame with negative values replaced.\n",
        "    \"\"\"\n",
        "    df[column_name] = np.where(df[column_name] < 0, 0, df[column_name])\n",
        "    return df\n",
        "\n",
        "# Example usage:\n",
        "data = {'A': [10, -5, 20, -3, 15], 'B': [7, 8, -2, 4, -1]}\n",
        "df = pd.DataFrame(data)\n",
        "\n",
        "print(\"Original DataFrame:\")\n",
        "print(df)\n",
        "\n",
        "# Replace negatives in column 'A'\n",
        "df = replace_negatives_with_zero(df, 'A')\n",
        "\n",
        "print(\"\\nModified DataFrame:\")\n",
        "print(df)\n"
      ],
      "metadata": {
        "colab": {
          "base_uri": "https://localhost:8080/"
        },
        "id": "Bv5WoWyef040",
        "outputId": "207d76b8-b2f4-4946-d24f-5edff61da0a0"
      },
      "execution_count": 26,
      "outputs": [
        {
          "output_type": "stream",
          "name": "stdout",
          "text": [
            "Original DataFrame:\n",
            "    A  B\n",
            "0  10  7\n",
            "1  -5  8\n",
            "2  20 -2\n",
            "3  -3  4\n",
            "4  15 -1\n",
            "\n",
            "Modified DataFrame:\n",
            "    A  B\n",
            "0  10  7\n",
            "1   0  8\n",
            "2  20 -2\n",
            "3   0  4\n",
            "4  15 -1\n"
          ]
        }
      ]
    },
    {
      "cell_type": "code",
      "source": [
        "# Q26. Access the 3rd element from the given NumPy array.\n",
        "# arr = np.array([10, 20, 30, 40, 50])\n",
        "\n",
        "# Ans. You can access the 3rd element (index 2, since Python uses zero-based indexing) from the given NumPy array like this:\n",
        "\n",
        "arr = np.array([10, 20, 30, 40, 50])\n",
        "\n",
        "# Access the 3rd element (index 2)\n",
        "third_element = arr[2]\n",
        "\n",
        "print(third_element)\n"
      ],
      "metadata": {
        "colab": {
          "base_uri": "https://localhost:8080/"
        },
        "id": "MPLvBouVhslA",
        "outputId": "3f1d93be-fd50-4a43-8059-59f80098fcfc"
      },
      "execution_count": 27,
      "outputs": [
        {
          "output_type": "stream",
          "name": "stdout",
          "text": [
            "30\n"
          ]
        }
      ]
    },
    {
      "cell_type": "code",
      "source": [
        "# Q27. Retrieve the element at index (1, 2) from the 2D NumPy array.\n",
        "#  arr_2d = np.array([[1, 2, 3],\n",
        "#                     [4, 5, 6],\n",
        "#                     [7, 8, 9]])\n",
        "\n",
        "# Ans. To retrieve the element at index (1,2) from the given 2D NumPy array, use the following code:\n",
        "\n",
        "arr_2d = np.array([[1, 2, 3],\n",
        "                   [4, 5, 6],\n",
        "                   [7, 8, 9]])\n",
        "\n",
        "# Access the element at row index 1, column index 2\n",
        "element = arr_2d[1, 2]\n",
        "\n",
        "print(element)\n"
      ],
      "metadata": {
        "colab": {
          "base_uri": "https://localhost:8080/"
        },
        "id": "iN7yOFJZoKnv",
        "outputId": "797dc27a-1c4a-4b64-f89f-e5c7fb05a6b9"
      },
      "execution_count": 28,
      "outputs": [
        {
          "output_type": "stream",
          "name": "stdout",
          "text": [
            "6\n"
          ]
        }
      ]
    },
    {
      "cell_type": "code",
      "source": [
        "# Q28. Using boolean indexing, extract elements greater than 5 from the given NumPy array.\n",
        "# arr = np.array([3, 8, 2, 10, 5, 7])\n",
        "\n",
        "# Ans.\n",
        "\n",
        "\n",
        "arr = np.array([3, 8, 2, 10, 5, 7])\n",
        "\n",
        "# Boolean indexing to extract elements greater than 5\n",
        "elements_greater_than_5 = arr[arr > 5]\n",
        "\n",
        "elements_greater_than_5\n"
      ],
      "metadata": {
        "colab": {
          "base_uri": "https://localhost:8080/"
        },
        "id": "qi9MuIUgoMqH",
        "outputId": "1805b889-2b0a-4ce7-f4e7-2cacfcb8889a"
      },
      "execution_count": 29,
      "outputs": [
        {
          "output_type": "execute_result",
          "data": {
            "text/plain": [
              "array([ 8, 10,  7])"
            ]
          },
          "metadata": {},
          "execution_count": 29
        }
      ]
    },
    {
      "cell_type": "code",
      "source": [
        "# Q29. Perform basic slicing to extract elements from index 2 to 5 (inclusive) from the given NumPy array.\n",
        "#  arr = np.array([1, 2, 3, 4, 5, 6, 7, 8, 9])\n",
        "\n",
        "#  Ans.\n",
        "\n",
        "arr = np.array([1, 2, 3, 4, 5, 6, 7, 8, 9])\n",
        "\n",
        "# Extract elements from index 2 to 5 (inclusive)\n",
        "sliced_array = arr[2:6]  # Note: the end index is exclusive, so we use 6\n",
        "\n",
        "sliced_array\n"
      ],
      "metadata": {
        "colab": {
          "base_uri": "https://localhost:8080/"
        },
        "id": "f6OkEUUao4gf",
        "outputId": "4365bb5a-c465-44bd-d354-b6d58a2dab01"
      },
      "execution_count": 30,
      "outputs": [
        {
          "output_type": "execute_result",
          "data": {
            "text/plain": [
              "array([3, 4, 5, 6])"
            ]
          },
          "metadata": {},
          "execution_count": 30
        }
      ]
    },
    {
      "cell_type": "code",
      "source": [
        "# Q30. Slice the 2D NumPy array to extract the sub-array `[[2, 3], [5, 6]]` from the given array.\n",
        "#  arr_2d = np.array([[1, 2, 3],\n",
        "#                     [4, 5, 6],\n",
        "#                     [7, 8, 9]])\n",
        "\n",
        "#  Ans.\n",
        "\n",
        "arr_2d = np.array([[1, 2, 3],\n",
        "                   [4, 5, 6],\n",
        "                   [7, 8, 9]])\n",
        "\n",
        "# Slice the array to extract the sub-array [[2, 3], [5, 6]]\n",
        "sub_array = arr_2d[:2, 1:]\n",
        "\n",
        "sub_array\n"
      ],
      "metadata": {
        "colab": {
          "base_uri": "https://localhost:8080/"
        },
        "id": "umKTGQUjpOdG",
        "outputId": "e1645c27-159f-4782-c0de-c94e00f49e14"
      },
      "execution_count": 31,
      "outputs": [
        {
          "output_type": "execute_result",
          "data": {
            "text/plain": [
              "array([[2, 3],\n",
              "       [5, 6]])"
            ]
          },
          "metadata": {},
          "execution_count": 31
        }
      ]
    },
    {
      "cell_type": "code",
      "source": [
        "# Q31. Write a NumPy function to extract elements in specific order from a given 2D array based on indices\n",
        "# provided in another array.\n",
        "\n",
        "# Ans. Here's a NumPy function to extract elements in a specific order from a given 2D array based on indices provided in another array:\n",
        "\n",
        "def extract_elements(arr, indices):\n",
        "    \"\"\"\n",
        "    Extracts elements from a given 2D NumPy array based on provided indices.\n",
        "\n",
        "    Parameters:\n",
        "    arr (np.ndarray): The input 2D NumPy array.\n",
        "    indices (list of tuples): A list of (row, col) index tuples specifying which elements to extract.\n",
        "\n",
        "    Returns:\n",
        "    np.ndarray: A 1D array of extracted elements.\n",
        "    \"\"\"\n",
        "    row_indices, col_indices = zip(*indices)  # Unzip row and column indices\n",
        "    return arr[np.array(row_indices), np.array(col_indices)]\n",
        "\n",
        "# Example usage:\n",
        "arr_2d = np.array([[1, 2, 3],\n",
        "                    [4, 5, 6],\n",
        "                    [7, 8, 9]])\n",
        "\n",
        "indices = [(0, 2), (2, 1), (1, 0)]  # Extract elements at (0,2), (2,1), and (1,0)\n",
        "\n",
        "result = extract_elements(arr_2d, indices)\n",
        "print(result)\n"
      ],
      "metadata": {
        "colab": {
          "base_uri": "https://localhost:8080/"
        },
        "id": "xpnY8-pJrP8_",
        "outputId": "4d669a46-f8de-4f73-8d0f-6baebb5da1d1"
      },
      "execution_count": 32,
      "outputs": [
        {
          "output_type": "stream",
          "name": "stdout",
          "text": [
            "[3 8 4]\n"
          ]
        }
      ]
    },
    {
      "cell_type": "code",
      "source": [
        "# Q32. Create a NumPy function that filters elements greater than a threshold from a given 1D array using\n",
        "# boolean indexing.\n",
        "\n",
        "# Ans. Here's a NumPy function that filters elements greater than a given threshold using boolean indexing:\n",
        "\n",
        "def filter_greater_than(arr, threshold):\n",
        "    \"\"\"\n",
        "    Filters elements greater than a given threshold from a 1D NumPy array using boolean indexing.\n",
        "\n",
        "    Parameters:\n",
        "    arr (np.ndarray): The input 1D NumPy array.\n",
        "    threshold (int or float): The threshold value.\n",
        "\n",
        "    Returns:\n",
        "    np.ndarray: A new array containing elements greater than the threshold.\n",
        "    \"\"\"\n",
        "    return arr[arr > threshold]\n",
        "\n",
        "# Example usage:\n",
        "arr = np.array([10, 25, 3, 45, 7, 30])\n",
        "threshold = 20\n",
        "\n",
        "result = filter_greater_than(arr, threshold)\n",
        "print(result)\n"
      ],
      "metadata": {
        "colab": {
          "base_uri": "https://localhost:8080/"
        },
        "id": "O4dlrh9yrjm1",
        "outputId": "ca371045-b34f-4e85-b8ab-2524b6166910"
      },
      "execution_count": 33,
      "outputs": [
        {
          "output_type": "stream",
          "name": "stdout",
          "text": [
            "[25 45 30]\n"
          ]
        }
      ]
    },
    {
      "cell_type": "code",
      "source": [
        "#Q33. Develop a NumPy function that extracts specific elements from a 3D array using indices provided in three\n",
        "# separate arrays for each dimension.\n",
        "\n",
        "# Ans.\n",
        "\n",
        "def extract_elements_3d(arr_3d, indices_dim1, indices_dim2, indices_dim3):\n",
        "    \"\"\"\n",
        "    Extracts elements from a 3D NumPy array using indices provided in separate arrays.\n",
        "\n",
        "    Args:\n",
        "        arr_3d: The 3D NumPy array.\n",
        "        indices_dim1: Array of indices for the first dimension.\n",
        "        indices_dim2: Array of indices for the second dimension.\n",
        "        indices_dim3: Array of indices for the third dimension.\n",
        "\n",
        "    Returns:\n",
        "        A 1D NumPy array containing the extracted elements.\n",
        "    \"\"\"\n",
        "\n",
        "    # Validate the input indices\n",
        "    if not (len(indices_dim1) == len(indices_dim2) == len(indices_dim3)):\n",
        "        raise ValueError(\"Index arrays must have the same length.\")\n",
        "\n",
        "    # Perform the extraction using advanced indexing.\n",
        "    extracted_elements = arr_3d[indices_dim1, indices_dim2, indices_dim3]\n",
        "    return extracted_elements\n"
      ],
      "metadata": {
        "id": "H9bVjIPyrmC9"
      },
      "execution_count": 34,
      "outputs": []
    },
    {
      "cell_type": "code",
      "source": [
        "#Q34. Write a NumPy function that returns elements from an array where both two conditions are satisfied\n",
        "# using boolean indexing.\n",
        "\n",
        "# Ans.\n",
        "\n",
        "def filter_by_two_conditions(arr, condition1, condition2):\n",
        "    \"\"\"\n",
        "    Filters a NumPy array based on two conditions using boolean indexing.\n",
        "\n",
        "    Args:\n",
        "        arr: The input NumPy array.\n",
        "        condition1: The first condition (a boolean array or a function).\n",
        "        condition2: The second condition (a boolean array or a function).\n",
        "\n",
        "    Returns:\n",
        "        A new NumPy array containing elements that satisfy both conditions.\n",
        "    \"\"\"\n",
        "    if callable(condition1):\n",
        "        condition1 = condition1(arr)\n",
        "    if callable(condition2):\n",
        "        condition2 = condition2(arr)\n",
        "\n",
        "    mask = condition1 & condition2  # Combine the conditions using the logical AND operator\n",
        "    return arr[mask]\n",
        "\n",
        "# Example usage\n",
        "arr = np.array([1, 5, 10, 15, 20, 25, 30])\n",
        "\n",
        "# Define two conditions\n",
        "condition1 = arr > 10  # Elements greater than 10\n",
        "condition2 = arr < 25  # Elements less than 25\n",
        "\n",
        "\n",
        "filtered_array = filter_by_two_conditions(arr, condition1, condition2)\n",
        "print(filtered_array)  # Output: [15 20]\n",
        "\n",
        "# Example using functions as conditions\n",
        "def is_even(x):\n",
        "    return x % 2 == 0\n",
        "\n",
        "def greater_than_5(x):\n",
        "    return x > 5\n",
        "\n",
        "filtered_array = filter_by_two_conditions(arr, is_even, greater_than_5)\n",
        "filtered_array\n"
      ],
      "metadata": {
        "colab": {
          "base_uri": "https://localhost:8080/"
        },
        "id": "8Upl0dR-0mdy",
        "outputId": "50bddfa2-f2e6-4901-e84b-efcba029f30b"
      },
      "execution_count": 35,
      "outputs": [
        {
          "output_type": "stream",
          "name": "stdout",
          "text": [
            "[15 20]\n"
          ]
        },
        {
          "output_type": "execute_result",
          "data": {
            "text/plain": [
              "array([10, 20, 30])"
            ]
          },
          "metadata": {},
          "execution_count": 35
        }
      ]
    },
    {
      "cell_type": "code",
      "source": [
        "#Q35. Create a NumPy function that extracts elements from a 2D array using row and column indices provided\n",
        "# in separate arrays.\n",
        "\n",
        "# Ans.\n",
        "\n",
        "def extract_elements_2d(arr, row_indices, col_indices):\n",
        "    \"\"\"\n",
        "    Extracts elements from a 2D NumPy array using row and column indices.\n",
        "\n",
        "    Args:\n",
        "        arr: The 2D NumPy array.\n",
        "        row_indices: A 1D NumPy array of row indices.\n",
        "        col_indices: A 1D NumPy array of column indices.\n",
        "\n",
        "    Returns:\n",
        "        A 1D NumPy array containing the extracted elements.\n",
        "    \"\"\"\n",
        "    # Validate input\n",
        "    if not isinstance(arr, np.ndarray) or arr.ndim != 2:\n",
        "        raise ValueError(\"Input 'arr' must be a 2D NumPy array.\")\n",
        "\n",
        "    if not (isinstance(row_indices, np.ndarray) and isinstance(col_indices, np.ndarray)):\n",
        "      raise ValueError(\"Input 'row_indices' and 'col_indices' must be NumPy arrays.\")\n",
        "\n",
        "    if not (row_indices.ndim == 1 and col_indices.ndim == 1):\n",
        "      raise ValueError(\"Input 'row_indices' and 'col_indices' must be 1D NumPy arrays.\")\n",
        "\n",
        "    if not len(row_indices) == len(col_indices):\n",
        "      raise ValueError(\"Input 'row_indices' and 'col_indices' must have the same length.\")\n",
        "\n",
        "    # Extract elements using advanced indexing\n",
        "    extracted_elements = arr[row_indices, col_indices]\n",
        "    return extracted_elements\n",
        "\n",
        "# Example Usage\n",
        "arr_2d = np.array([[1, 2, 3], [4, 5, 6], [7, 8, 9]])\n",
        "row_indices = np.array([0, 1, 2])\n",
        "col_indices = np.array([1, 0, 2])\n",
        "\n",
        "extracted_values = extract_elements_2d(arr_2d, row_indices, col_indices)\n",
        "extracted_values\n"
      ],
      "metadata": {
        "colab": {
          "base_uri": "https://localhost:8080/"
        },
        "id": "21r5LmzL0xad",
        "outputId": "d065184d-6e6b-4c84-dfe5-0b9908b30007"
      },
      "execution_count": 36,
      "outputs": [
        {
          "output_type": "execute_result",
          "data": {
            "text/plain": [
              "array([2, 4, 9])"
            ]
          },
          "metadata": {},
          "execution_count": 36
        }
      ]
    },
    {
      "cell_type": "code",
      "source": [
        "#Q36. Given an array arr of shape (3, 3), add a scalar value of 5 to each element using NumPy broadcasting.\n",
        "\n",
        "# Ans.\n",
        "arr = np.array([[1, 2, 3], [4, 5, 6], [7, 8, 9]])\n",
        "result_array = arr + 5\n",
        "result_array\n"
      ],
      "metadata": {
        "colab": {
          "base_uri": "https://localhost:8080/"
        },
        "id": "VVLVhEEj1G8z",
        "outputId": "d4229fbd-b486-408c-abf0-320d5f0a8f5d"
      },
      "execution_count": 37,
      "outputs": [
        {
          "output_type": "execute_result",
          "data": {
            "text/plain": [
              "array([[ 6,  7,  8],\n",
              "       [ 9, 10, 11],\n",
              "       [12, 13, 14]])"
            ]
          },
          "metadata": {},
          "execution_count": 37
        }
      ]
    },
    {
      "cell_type": "code",
      "source": [
        "#Q37. Consider two arrays arr1 of shape (1, 3) and arr2 of shape (3, 4). Multiply each row of arr2 by the\n",
        "# corresponding element in arr1 using NumPy broadcasting.\n",
        "\n",
        "# Ans.\n",
        "arr1 = np.array([[1, 2, 3]])\n",
        "arr2 = np.array([[1, 2, 3, 4], [5, 6, 7, 8], [9, 10, 11, 12]])\n",
        "\n",
        "result_array = arr1 * arr2\n",
        "result_array\n"
      ],
      "metadata": {
        "colab": {
          "base_uri": "https://localhost:8080/",
          "height": 193
        },
        "id": "SZQvrx_U1R8j",
        "outputId": "473d50c1-76f0-404d-9993-97332237ba67"
      },
      "execution_count": 38,
      "outputs": [
        {
          "output_type": "error",
          "ename": "ValueError",
          "evalue": "operands could not be broadcast together with shapes (1,3) (3,4) ",
          "traceback": [
            "\u001b[0;31m---------------------------------------------------------------------------\u001b[0m",
            "\u001b[0;31mValueError\u001b[0m                                Traceback (most recent call last)",
            "\u001b[0;32m<ipython-input-38-1d8c0315a1f7>\u001b[0m in \u001b[0;36m<cell line: 0>\u001b[0;34m()\u001b[0m\n\u001b[1;32m      6\u001b[0m \u001b[0marr2\u001b[0m \u001b[0;34m=\u001b[0m \u001b[0mnp\u001b[0m\u001b[0;34m.\u001b[0m\u001b[0marray\u001b[0m\u001b[0;34m(\u001b[0m\u001b[0;34m[\u001b[0m\u001b[0;34m[\u001b[0m\u001b[0;36m1\u001b[0m\u001b[0;34m,\u001b[0m \u001b[0;36m2\u001b[0m\u001b[0;34m,\u001b[0m \u001b[0;36m3\u001b[0m\u001b[0;34m,\u001b[0m \u001b[0;36m4\u001b[0m\u001b[0;34m]\u001b[0m\u001b[0;34m,\u001b[0m \u001b[0;34m[\u001b[0m\u001b[0;36m5\u001b[0m\u001b[0;34m,\u001b[0m \u001b[0;36m6\u001b[0m\u001b[0;34m,\u001b[0m \u001b[0;36m7\u001b[0m\u001b[0;34m,\u001b[0m \u001b[0;36m8\u001b[0m\u001b[0;34m]\u001b[0m\u001b[0;34m,\u001b[0m \u001b[0;34m[\u001b[0m\u001b[0;36m9\u001b[0m\u001b[0;34m,\u001b[0m \u001b[0;36m10\u001b[0m\u001b[0;34m,\u001b[0m \u001b[0;36m11\u001b[0m\u001b[0;34m,\u001b[0m \u001b[0;36m12\u001b[0m\u001b[0;34m]\u001b[0m\u001b[0;34m]\u001b[0m\u001b[0;34m)\u001b[0m\u001b[0;34m\u001b[0m\u001b[0;34m\u001b[0m\u001b[0m\n\u001b[1;32m      7\u001b[0m \u001b[0;34m\u001b[0m\u001b[0m\n\u001b[0;32m----> 8\u001b[0;31m \u001b[0mresult_array\u001b[0m \u001b[0;34m=\u001b[0m \u001b[0marr1\u001b[0m \u001b[0;34m*\u001b[0m \u001b[0marr2\u001b[0m\u001b[0;34m\u001b[0m\u001b[0;34m\u001b[0m\u001b[0m\n\u001b[0m\u001b[1;32m      9\u001b[0m \u001b[0mresult_array\u001b[0m\u001b[0;34m\u001b[0m\u001b[0;34m\u001b[0m\u001b[0m\n",
            "\u001b[0;31mValueError\u001b[0m: operands could not be broadcast together with shapes (1,3) (3,4) "
          ]
        }
      ]
    },
    {
      "cell_type": "code",
      "source": [
        "# Q38. Given a 1D array arr1 of shape (1, 4) and a 2D array arr2 of shape (4, 3), add arr1 to each row of arr2 using\n",
        "# NumPy broadcasting.\n",
        "\n",
        "# Ans.\n",
        "# Assuming arr1 and arr2 are already defined as in the problem description.\n",
        "arr1 = np.array([[1, 2, 3, 4]])\n",
        "arr2 = np.array([[1, 2, 3], [4, 5, 6], [7, 8, 9], [10, 11, 12]])\n",
        "\n",
        "result_array = arr1 + arr2\n",
        "result_array\n"
      ],
      "metadata": {
        "colab": {
          "base_uri": "https://localhost:8080/",
          "height": 193
        },
        "id": "JkJlrzZi1cbK",
        "outputId": "88dd50fe-4225-41b8-bcb0-60b85561bfcb"
      },
      "execution_count": 39,
      "outputs": [
        {
          "output_type": "error",
          "ename": "ValueError",
          "evalue": "operands could not be broadcast together with shapes (1,4) (4,3) ",
          "traceback": [
            "\u001b[0;31m---------------------------------------------------------------------------\u001b[0m",
            "\u001b[0;31mValueError\u001b[0m                                Traceback (most recent call last)",
            "\u001b[0;32m<ipython-input-39-518d523ab74b>\u001b[0m in \u001b[0;36m<cell line: 0>\u001b[0;34m()\u001b[0m\n\u001b[1;32m      7\u001b[0m \u001b[0marr2\u001b[0m \u001b[0;34m=\u001b[0m \u001b[0mnp\u001b[0m\u001b[0;34m.\u001b[0m\u001b[0marray\u001b[0m\u001b[0;34m(\u001b[0m\u001b[0;34m[\u001b[0m\u001b[0;34m[\u001b[0m\u001b[0;36m1\u001b[0m\u001b[0;34m,\u001b[0m \u001b[0;36m2\u001b[0m\u001b[0;34m,\u001b[0m \u001b[0;36m3\u001b[0m\u001b[0;34m]\u001b[0m\u001b[0;34m,\u001b[0m \u001b[0;34m[\u001b[0m\u001b[0;36m4\u001b[0m\u001b[0;34m,\u001b[0m \u001b[0;36m5\u001b[0m\u001b[0;34m,\u001b[0m \u001b[0;36m6\u001b[0m\u001b[0;34m]\u001b[0m\u001b[0;34m,\u001b[0m \u001b[0;34m[\u001b[0m\u001b[0;36m7\u001b[0m\u001b[0;34m,\u001b[0m \u001b[0;36m8\u001b[0m\u001b[0;34m,\u001b[0m \u001b[0;36m9\u001b[0m\u001b[0;34m]\u001b[0m\u001b[0;34m,\u001b[0m \u001b[0;34m[\u001b[0m\u001b[0;36m10\u001b[0m\u001b[0;34m,\u001b[0m \u001b[0;36m11\u001b[0m\u001b[0;34m,\u001b[0m \u001b[0;36m12\u001b[0m\u001b[0;34m]\u001b[0m\u001b[0;34m]\u001b[0m\u001b[0;34m)\u001b[0m\u001b[0;34m\u001b[0m\u001b[0;34m\u001b[0m\u001b[0m\n\u001b[1;32m      8\u001b[0m \u001b[0;34m\u001b[0m\u001b[0m\n\u001b[0;32m----> 9\u001b[0;31m \u001b[0mresult_array\u001b[0m \u001b[0;34m=\u001b[0m \u001b[0marr1\u001b[0m \u001b[0;34m+\u001b[0m \u001b[0marr2\u001b[0m\u001b[0;34m\u001b[0m\u001b[0;34m\u001b[0m\u001b[0m\n\u001b[0m\u001b[1;32m     10\u001b[0m \u001b[0mresult_array\u001b[0m\u001b[0;34m\u001b[0m\u001b[0;34m\u001b[0m\u001b[0m\n",
            "\u001b[0;31mValueError\u001b[0m: operands could not be broadcast together with shapes (1,4) (4,3) "
          ]
        }
      ]
    },
    {
      "cell_type": "code",
      "source": [
        "# Q39. Consider two arrays arr1 of shape (3, 1) and arr2 of shape (1, 3). Add these arrays using NumPy\n",
        "# broadcasting.\n",
        "\n",
        "# Ans.\n",
        "arr1 = np.array([[1], [2], [3]])\n",
        "arr2 = np.array([[4, 5, 6]])\n",
        "\n",
        "result_array = arr1 + arr2\n",
        "result_array\n"
      ],
      "metadata": {
        "colab": {
          "base_uri": "https://localhost:8080/"
        },
        "id": "EdoA5Gvf2PFH",
        "outputId": "7f4af651-e893-4f38-bb64-61b0b5d81ff1"
      },
      "execution_count": 40,
      "outputs": [
        {
          "output_type": "execute_result",
          "data": {
            "text/plain": [
              "array([[5, 6, 7],\n",
              "       [6, 7, 8],\n",
              "       [7, 8, 9]])"
            ]
          },
          "metadata": {},
          "execution_count": 40
        }
      ]
    },
    {
      "cell_type": "code",
      "source": [
        "# Q40. Given arrays arr1 of shape (2, 3) and arr2 of shape (2, 2), perform multiplication using NumPy\n",
        "# broadcasting. Handle the shape incompatibility.\n",
        "\n",
        "# Ans.\n",
        "def multiply_arrays(arr1, arr2):\n",
        "    \"\"\"\n",
        "    Performs multiplication of two NumPy arrays using broadcasting, handling shape incompatibility.\n",
        "\n",
        "    Args:\n",
        "        arr1: The first NumPy array.\n",
        "        arr2: The second NumPy array.\n",
        "\n",
        "    Returns:\n",
        "        The result of the multiplication, or None if the arrays cannot be multiplied due to shape incompatibility.\n",
        "    \"\"\"\n",
        "    try:\n",
        "      result = arr1 * arr2\n",
        "      return result\n",
        "    except ValueError as e:\n",
        "      print(f\"Error: {e}\")\n",
        "      return None\n",
        "\n",
        "\n",
        "# Example usage\n",
        "arr1 = np.array([[1, 2, 3], [4, 5, 6]])\n",
        "arr2 = np.array([[7, 8], [9, 10]])\n",
        "\n",
        "result = multiply_arrays(arr1, arr2)\n",
        "\n",
        "if result is not None:\n",
        "  result\n"
      ],
      "metadata": {
        "colab": {
          "base_uri": "https://localhost:8080/"
        },
        "id": "hjCa_8Cr2n1k",
        "outputId": "e892a103-235f-440c-e1bb-0b971be4ee56"
      },
      "execution_count": 42,
      "outputs": [
        {
          "output_type": "stream",
          "name": "stdout",
          "text": [
            "Error: operands could not be broadcast together with shapes (2,3) (2,2) \n"
          ]
        }
      ]
    },
    {
      "cell_type": "code",
      "source": [
        "# Q41. Calculate column-wise mean for the given array:\n",
        "#  arr = np.array([[1, 2, 3], [4, 5, 6]])\n",
        "\n",
        "\n",
        "# Ans.\n",
        "arr = np.array([[1, 2, 3], [4, 5, 6]])\n",
        "column_means = np.mean(arr, axis=0)\n",
        "column_means\n"
      ],
      "metadata": {
        "colab": {
          "base_uri": "https://localhost:8080/"
        },
        "id": "_VGa5PVl25Qd",
        "outputId": "56bcd7d2-8e2a-4498-df3f-9e74edbd2ca4"
      },
      "execution_count": 43,
      "outputs": [
        {
          "output_type": "execute_result",
          "data": {
            "text/plain": [
              "array([2.5, 3.5, 4.5])"
            ]
          },
          "metadata": {},
          "execution_count": 43
        }
      ]
    },
    {
      "cell_type": "code",
      "source": [
        "# Q42. Find maximum value in each row of the given array:\n",
        "#  arr = np.array([[1, 2, 3], [4, 5, 6]])\n",
        "\n",
        "# Ans.\n",
        "arr = np.array([[1, 2, 3], [4, 5, 6]])\n",
        "row_max = np.max(arr, axis=1)\n",
        "row_max\n"
      ],
      "metadata": {
        "colab": {
          "base_uri": "https://localhost:8080/"
        },
        "id": "Atr3tMNv3Smc",
        "outputId": "feda1e50-9b36-4e4f-8d1c-ac69a8fb376b"
      },
      "execution_count": 44,
      "outputs": [
        {
          "output_type": "execute_result",
          "data": {
            "text/plain": [
              "array([3, 6])"
            ]
          },
          "metadata": {},
          "execution_count": 44
        }
      ]
    },
    {
      "cell_type": "code",
      "source": [
        "# Q43. For the given array, find indices of maximum value in each column.\n",
        "#  arr = np.array([[1, 2, 3], [4, 5, 6]])\n",
        "\n",
        "# Ans.\n",
        "arr = np.array([[1, 2, 3], [4, 5, 6]])\n",
        "max_indices = np.argmax(arr, axis=0)\n",
        "max_indices\n"
      ],
      "metadata": {
        "colab": {
          "base_uri": "https://localhost:8080/"
        },
        "id": "5MVUu8du3jFL",
        "outputId": "9cb81af5-75b6-4776-b13b-b4bb6823a23d"
      },
      "execution_count": 45,
      "outputs": [
        {
          "output_type": "execute_result",
          "data": {
            "text/plain": [
              "array([1, 1, 1])"
            ]
          },
          "metadata": {},
          "execution_count": 45
        }
      ]
    },
    {
      "cell_type": "code",
      "source": [
        "# Q44. For the given array, apply custom function to calculate moving sum along rows.\n",
        "#  arr = np.array([[1, 2, 3], [4, 5, 6]])\n",
        "\n",
        "# Ans.\n",
        "\n",
        "def moving_sum(arr):\n",
        "    \"\"\"Calculates the moving sum along rows of a 2D NumPy array.\n",
        "\n",
        "    Args:\n",
        "    arr (np.ndarray): The input 2D array.\n",
        "\n",
        "    Returns:\n",
        "    np.ndarray: A new array with the moving sums.\n",
        "    \"\"\"\n",
        "\n",
        "    # Check if the array is 2D\n",
        "    if arr.ndim != 2:\n",
        "        raise ValueError(\"Input array must be 2-dimensional.\")\n",
        "\n",
        "    rows, cols = arr.shape\n",
        "    result = np.zeros_like(arr, dtype=int)  # Initialize the result array\n",
        "\n",
        "    for i in range(rows):\n",
        "        current_sum = 0\n",
        "        for j in range(cols):\n",
        "            current_sum += arr[i, j]\n",
        "            result[i, j] = current_sum\n",
        "\n",
        "    return result\n",
        "\n",
        "\n",
        "# Example usage:\n",
        "arr = np.array([[1, 2, 3], [4, 5, 6]])\n",
        "moving_sum_result = moving_sum(arr)\n",
        "moving_sum_result\n"
      ],
      "metadata": {
        "colab": {
          "base_uri": "https://localhost:8080/"
        },
        "id": "2_P8M0cZ3zDD",
        "outputId": "d8dfe52f-fe11-4159-d758-c7ac34c47c2e"
      },
      "execution_count": 46,
      "outputs": [
        {
          "output_type": "execute_result",
          "data": {
            "text/plain": [
              "array([[ 1,  3,  6],\n",
              "       [ 4,  9, 15]])"
            ]
          },
          "metadata": {},
          "execution_count": 46
        }
      ]
    },
    {
      "cell_type": "code",
      "source": [
        "# Q45. In the given array, check if all elements in each column are even.\n",
        "#  arr = np.array([[2, 4, 6], [3, 5, 7]])\n",
        "\n",
        "# Ans.\n",
        "arr = np.array([[2, 4, 6], [3, 5, 7]])\n",
        "\n",
        "def check_even_columns(array):\n",
        "  \"\"\"\n",
        "  Checks if all elements in each column of a 2D NumPy array are even.\n",
        "\n",
        "  Args:\n",
        "    array: A 2D NumPy array.\n",
        "\n",
        "  Returns:\n",
        "    A boolean array indicating whether each column consists of only even numbers.\n",
        "  \"\"\"\n",
        "  return np.all(array % 2 == 0, axis=0)\n",
        "\n",
        "result = check_even_columns(arr)\n",
        "result\n"
      ],
      "metadata": {
        "colab": {
          "base_uri": "https://localhost:8080/"
        },
        "id": "4FOqc-LO3-Nl",
        "outputId": "dc77081b-1993-47ac-8e7b-b99bd1f58669"
      },
      "execution_count": 47,
      "outputs": [
        {
          "output_type": "execute_result",
          "data": {
            "text/plain": [
              "array([False, False, False])"
            ]
          },
          "metadata": {},
          "execution_count": 47
        }
      ]
    },
    {
      "cell_type": "code",
      "source": [
        "# Q46. Given a NumPy array arr, reshape it into a matrix of dimensions `m` rows and `n` columns. Return the\n",
        "# reshaped matrix.\n",
        "#  original_array = np.array([1, 2, 3, 4, 5, 6])\n",
        "\n",
        "# Ans.\n",
        "\n",
        "def reshape_array(arr, m, n):\n",
        "    \"\"\"\n",
        "    Reshapes a NumPy array into a matrix of dimensions m rows and n columns.\n",
        "\n",
        "    Args:\n",
        "        arr (np.ndarray): The input NumPy array.\n",
        "        m (int): The desired number of rows.\n",
        "        n (int): The desired number of columns.\n",
        "\n",
        "    Returns:\n",
        "        np.ndarray: The reshaped matrix, or None if the reshape operation fails.\n",
        "    \"\"\"\n",
        "    try:\n",
        "        reshaped_arr = arr.reshape(m, n)\n",
        "        return reshaped_arr\n",
        "    except ValueError:\n",
        "        print(\"Error: The array cannot be reshaped to the specified dimensions.\")\n",
        "        return None\n",
        "\n",
        "# Example usage:\n",
        "original_array = np.array([1, 2, 3, 4, 5, 6])\n",
        "m = 2\n",
        "n = 3\n",
        "\n",
        "reshaped_matrix = reshape_array(original_array, m, n)\n",
        "\n",
        "if reshaped_matrix is not None:\n",
        "  reshaped_matrix\n"
      ],
      "metadata": {
        "id": "OTkZll-v4QxD"
      },
      "execution_count": 49,
      "outputs": []
    },
    {
      "cell_type": "code",
      "source": [
        "# Q47. Create a function that takes a matrix as input and returns the flattened array.\n",
        "#  input_matrix = np.array([[1, 2, 3], [4, 5, 6]])\n",
        "\n",
        "# Ans.\n",
        "\n",
        "def flatten_matrix(input_matrix):\n",
        "    \"\"\"\n",
        "    Flattens a given matrix into a 1D array.\n",
        "\n",
        "    Args:\n",
        "        input_matrix (np.ndarray): The input matrix.\n",
        "\n",
        "    Returns:\n",
        "        np.ndarray: The flattened array.\n",
        "    \"\"\"\n",
        "    return input_matrix.flatten()\n",
        "\n",
        "# Example usage\n",
        "input_matrix = np.array([[1, 2, 3], [4, 5, 6]])\n",
        "flattened_array = flatten_matrix(input_matrix)\n",
        "flattened_array\n"
      ],
      "metadata": {
        "colab": {
          "base_uri": "https://localhost:8080/"
        },
        "id": "tsxfxU1m4gSQ",
        "outputId": "c78c4e70-8836-46bd-f9bd-66deb951ec73"
      },
      "execution_count": 51,
      "outputs": [
        {
          "output_type": "execute_result",
          "data": {
            "text/plain": [
              "array([1, 2, 3, 4, 5, 6])"
            ]
          },
          "metadata": {},
          "execution_count": 51
        }
      ]
    },
    {
      "cell_type": "code",
      "source": [
        "# Q48. Write a function that concatenates two given arrays along a specified axis.\n",
        "#  array1 = np.array([[1, 2], [3, 4]])\n",
        "#  array2 = np.array([[5, 6], [7, 8]])\n",
        "\n",
        "# Ans.\n",
        "\n",
        "def concatenate_arrays(array1, array2, axis):\n",
        "    \"\"\"\n",
        "    Concatenates two NumPy arrays along a specified axis.\n",
        "\n",
        "    Args:\n",
        "        array1: The first NumPy array.\n",
        "        array2: The second NumPy array.\n",
        "        axis: The axis along which to concatenate the arrays (0 for rows, 1 for columns).\n",
        "\n",
        "    Returns:\n",
        "        The concatenated NumPy array, or None if the arrays cannot be concatenated.\n",
        "    \"\"\"\n",
        "    try:\n",
        "        concatenated_array = np.concatenate((array1, array2), axis=axis)\n",
        "        return concatenated_array\n",
        "    except ValueError as e:\n",
        "        print(f\"Error: {e}\")\n",
        "        return None\n",
        "\n",
        "# Example usage:\n",
        "array1 = np.array([[1, 2], [3, 4]])\n",
        "array2 = np.array([[5, 6], [7, 8]])\n",
        "\n",
        "# Concatenate along rows (axis=0)\n",
        "result_rows = concatenate_arrays(array1, array2, 0)\n",
        "print(\"Concatenated along rows:\")\n",
        "if result_rows is not None:\n",
        "    print(result_rows)\n",
        "\n",
        "# Concatenate along columns (axis=1)\n",
        "result_cols = concatenate_arrays(array1, array2, 1)\n",
        "print(\"\\nConcatenated along columns:\")\n",
        "if result_cols is not None:\n",
        "  result_cols\n"
      ],
      "metadata": {
        "colab": {
          "base_uri": "https://localhost:8080/"
        },
        "id": "m7KN8XRN5EEm",
        "outputId": "2f9b0ccd-d3d4-4b0d-a111-c36c0d32b8a9"
      },
      "execution_count": 52,
      "outputs": [
        {
          "output_type": "stream",
          "name": "stdout",
          "text": [
            "Concatenated along rows:\n",
            "[[1 2]\n",
            " [3 4]\n",
            " [5 6]\n",
            " [7 8]]\n",
            "\n",
            "Concatenated along columns:\n"
          ]
        }
      ]
    },
    {
      "cell_type": "code",
      "source": [
        "# Q49. Create a function that splits an array into multiple sub-arrays along a specified axis.\n",
        "#  original_array = np.array([[1, 2, 3], [4, 5, 6], [7, 8, 9]])\n",
        "\n",
        "# Ans.\n",
        "\n",
        "def split_array(original_array, axis, indices_or_sections):\n",
        "    \"\"\"Splits a NumPy array into multiple sub-arrays along a specified axis.\n",
        "\n",
        "    Args:\n",
        "        original_array (np.ndarray): The input array to split.\n",
        "        axis (int): The axis along which to split the array (0 for rows, 1 for columns).\n",
        "        indices_or_sections (int or list): If an integer, it specifies the number of equal-sized sub-arrays.\n",
        "                                           If a list, it specifies the indices at which to split the array.\n",
        "\n",
        "    Returns:\n",
        "        A list of NumPy sub-arrays, or None if the input is invalid or splitting fails.\n",
        "    \"\"\"\n",
        "    try:\n",
        "        if isinstance(indices_or_sections, int):\n",
        "            # Split into equal-sized sub-arrays\n",
        "            return np.split(original_array, indices_or_sections, axis=axis)\n",
        "        elif isinstance(indices_or_sections, list):\n",
        "            # Split at specific indices\n",
        "            return np.split(original_array, indices_or_sections, axis=axis)\n",
        "        else:\n",
        "            print(\"Error: indices_or_sections must be an integer or a list.\")\n",
        "            return None\n",
        "    except ValueError as e:\n",
        "        print(f\"Error: {e}\")\n",
        "        return None\n",
        "\n",
        "# Example usage\n",
        "original_array = np.array([[1, 2, 3], [4, 5, 6], [7, 8, 9]])\n",
        "\n",
        "# Split into 3 equal sub-arrays along axis 0 (rows):\n",
        "sub_arrays = split_array(original_array, 0, 3)\n",
        "if sub_arrays is not None:\n",
        "    for i, sub_array in enumerate(sub_arrays):\n",
        "        print(f\"Sub-array {i+1}:\\n{sub_array}\")\n",
        "\n",
        "# Split along axis 1 (columns) at indices 1 and 2\n",
        "sub_arrays = split_array(original_array, 1, [1,2])\n",
        "if sub_arrays is not None:\n",
        "    for i, sub_array in enumerate(sub_arrays):\n",
        "        print(f\"Sub-array {i+1}:\\n{sub_array}\")\n"
      ],
      "metadata": {
        "colab": {
          "base_uri": "https://localhost:8080/"
        },
        "id": "CEBje3v-5bpH",
        "outputId": "b99b3503-2f50-4087-d18b-a411649002d6"
      },
      "execution_count": 53,
      "outputs": [
        {
          "output_type": "stream",
          "name": "stdout",
          "text": [
            "Sub-array 1:\n",
            "[[1 2 3]]\n",
            "Sub-array 2:\n",
            "[[4 5 6]]\n",
            "Sub-array 3:\n",
            "[[7 8 9]]\n",
            "Sub-array 1:\n",
            "[[1]\n",
            " [4]\n",
            " [7]]\n",
            "Sub-array 2:\n",
            "[[2]\n",
            " [5]\n",
            " [8]]\n",
            "Sub-array 3:\n",
            "[[3]\n",
            " [6]\n",
            " [9]]\n"
          ]
        }
      ]
    },
    {
      "cell_type": "code",
      "source": [
        "# Q50. Write a function that inserts and then deletes elements from a given array at specified indices.\n",
        "#  original_array = np.array([1, 2, 3, 4, 5])\n",
        "#  indices_to_insert = [2, 4]\n",
        "#  values_to_insert = [10, 11]\n",
        "#  indices_to_delete = [1, 3]\n",
        "\n",
        "# Ans.\n",
        "\n",
        "def modify_array(original_array, indices_to_insert, values_to_insert, indices_to_delete):\n",
        "    \"\"\"Inserts and deletes elements from a NumPy array at specified indices.\n",
        "\n",
        "    Args:\n",
        "        original_array (np.ndarray): The input array.\n",
        "        indices_to_insert (list): Indices where elements should be inserted.\n",
        "        values_to_insert (list): Values to be inserted.\n",
        "        indices_to_delete (list): Indices of elements to be deleted.\n",
        "\n",
        "    Returns:\n",
        "        np.ndarray: The modified array.\n",
        "    \"\"\"\n",
        "\n",
        "    # Create a copy to avoid modifying the original array\n",
        "    modified_array = np.copy(original_array)\n",
        "\n",
        "    # Insert elements\n",
        "    for i, index in enumerate(indices_to_insert):\n",
        "        modified_array = np.insert(modified_array, index, values_to_insert[i])\n",
        "\n",
        "    # Delete elements (adjust indices after insertions)\n",
        "    adjusted_delete_indices = []\n",
        "    for index in indices_to_delete:\n",
        "        adjusted_index = index\n",
        "        for insert_index in indices_to_insert:\n",
        "          if insert_index < index:\n",
        "            adjusted_index += 1\n",
        "        adjusted_delete_indices.append(adjusted_index)\n",
        "\n",
        "    modified_array = np.delete(modified_array, adjusted_delete_indices)\n",
        "\n",
        "    return modified_array\n",
        "\n",
        "\n",
        "original_array = np.array([1, 2, 3, 4, 5])\n",
        "indices_to_insert = [2, 4]\n",
        "values_to_insert = [10, 11]\n",
        "indices_to_delete = [1, 3]\n",
        "\n",
        "result_array = modify_array(original_array, indices_to_insert, values_to_insert, indices_to_delete)\n",
        "result_array\n"
      ],
      "metadata": {
        "colab": {
          "base_uri": "https://localhost:8080/"
        },
        "id": "7T7kIURq5mOO",
        "outputId": "aa6b32ce-2439-40d6-c68d-fba4855fcd08"
      },
      "execution_count": 54,
      "outputs": [
        {
          "output_type": "execute_result",
          "data": {
            "text/plain": [
              "array([ 1, 10,  3,  4,  5])"
            ]
          },
          "metadata": {},
          "execution_count": 54
        }
      ]
    },
    {
      "cell_type": "code",
      "source": [
        "# Q51. Create a NumPy array `arr1` with random integers and another array `arr2` with integers from 1 to 10.\n",
        "# Perform element-wise addition between `arr1` and `arr2`.\n",
        "\n",
        "# Ans.\n",
        "\n",
        "# Create arr1 with random integers (adjust size as needed)\n",
        "arr1 = np.random.randint(0, 100, size=10)  # Example: 10 random integers between 0 and 99\n",
        "\n",
        "# Create arr2 with integers from 1 to 10\n",
        "arr2 = np.arange(1, 11)  # Integers from 1 to 10 (inclusive)\n",
        "\n",
        "\n",
        "# Ensure both arrays have compatible shapes for element-wise addition\n",
        "if arr1.shape != arr2.shape:\n",
        "    # Handle shape mismatch (e.g., broadcasting, resizing, or error handling)\n",
        "    min_len = min(arr1.shape[0], arr2.shape[0])\n",
        "    arr1 = arr1[:min_len]\n",
        "    arr2 = arr2[:min_len]\n",
        "\n",
        "# Perform element-wise addition\n",
        "element_wise_sum = arr1 + arr2\n",
        "element_wise_sum\n"
      ],
      "metadata": {
        "colab": {
          "base_uri": "https://localhost:8080/"
        },
        "id": "2u5J2CG_508I",
        "outputId": "55920fec-cf16-4c21-9b13-d26e7e0ef249"
      },
      "execution_count": 55,
      "outputs": [
        {
          "output_type": "execute_result",
          "data": {
            "text/plain": [
              "array([ 5, 19, 94, 20, 90, 95, 84, 75, 21, 44])"
            ]
          },
          "metadata": {},
          "execution_count": 55
        }
      ]
    },
    {
      "cell_type": "code",
      "source": [
        "# Q52. Generate a NumPy array `arr1` with sequential integers from 10 to 1 and another array `arr2` with integers\n",
        "# from 1 to 10. Subtract `arr2` from `arr1` element-wise.\n",
        "\n",
        "# Ans.\n",
        "\n",
        "arr1 = np.arange(10, 0, -1)\n",
        "arr2 = np.arange(1, 11)\n",
        "\n",
        "result_array = arr1 - arr2\n",
        "result_array\n"
      ],
      "metadata": {
        "colab": {
          "base_uri": "https://localhost:8080/"
        },
        "id": "WZXxo7wy6GY_",
        "outputId": "f8304ce0-71c0-4062-b545-e2834e62ea75"
      },
      "execution_count": 56,
      "outputs": [
        {
          "output_type": "execute_result",
          "data": {
            "text/plain": [
              "array([ 9,  7,  5,  3,  1, -1, -3, -5, -7, -9])"
            ]
          },
          "metadata": {},
          "execution_count": 56
        }
      ]
    },
    {
      "cell_type": "code",
      "source": [
        "# Q53. Create a NumPy array `arr1` with random integers and another array `arr2` with integers from 1 to 5.\n",
        "# Perform element-wise multiplication between `arr1` and `arr2`.\n",
        "\n",
        "\n",
        "# Ans.\n",
        "\n",
        "# Create arr1 with random integers\n",
        "arr1 = np.random.randint(0, 10, size=5)\n",
        "\n",
        "# Create arr2 with integers from 1 to 5\n",
        "arr2 = np.arange(1, 6)\n",
        "\n",
        "# Perform element-wise multiplication\n",
        "element_wise_product = arr1 * arr2\n",
        "\n",
        "element_wise_product\n"
      ],
      "metadata": {
        "colab": {
          "base_uri": "https://localhost:8080/"
        },
        "id": "JNg1AsEi6SXH",
        "outputId": "24669a71-e390-47c1-e946-b95a0ddb049d"
      },
      "execution_count": 57,
      "outputs": [
        {
          "output_type": "execute_result",
          "data": {
            "text/plain": [
              "array([ 0,  6, 15,  0, 30])"
            ]
          },
          "metadata": {},
          "execution_count": 57
        }
      ]
    },
    {
      "cell_type": "code",
      "source": [
        "# Q54. Generate a NumPy array `arr1` with even integers from 2 to 10 and another array `arr2` with integers from 1\n",
        "# to 5. Perform element-wise division of `arr1` by `arr2`.\n",
        "\n",
        "# Ans.\n",
        "\n",
        "arr1 = np.arange(2, 11, 2)\n",
        "arr2 = np.arange(1, 6)\n",
        "\n",
        "result = arr1 / arr2\n",
        "result\n"
      ],
      "metadata": {
        "colab": {
          "base_uri": "https://localhost:8080/"
        },
        "id": "ChZLQttI6mAQ",
        "outputId": "90f211b2-57a3-4f6b-9649-7d1704dafdeb"
      },
      "execution_count": 58,
      "outputs": [
        {
          "output_type": "execute_result",
          "data": {
            "text/plain": [
              "array([2., 2., 2., 2., 2.])"
            ]
          },
          "metadata": {},
          "execution_count": 58
        }
      ]
    },
    {
      "cell_type": "code",
      "source": [
        "# Q55. Create a NumPy array `arr1` with integers from 1 to 5 and another array `arr2` with the same numbers\n",
        "# reversed. Calculate the exponentiation of `arr1` raised to the power of `arr2` element-wise.\n",
        "\n",
        "# Ans.\n",
        "\n",
        "arr1 = np.arange(1, 6)\n",
        "arr2 = np.arange(5, 0, -1)\n",
        "\n",
        "result_array = np.power(arr1, arr2)\n",
        "result_array\n"
      ],
      "metadata": {
        "colab": {
          "base_uri": "https://localhost:8080/"
        },
        "id": "a2mO_-ME7ROD",
        "outputId": "e3eaa46d-b16c-49ef-8932-4b94d60719c1"
      },
      "execution_count": 59,
      "outputs": [
        {
          "output_type": "execute_result",
          "data": {
            "text/plain": [
              "array([ 1, 16, 27, 16,  5])"
            ]
          },
          "metadata": {},
          "execution_count": 59
        }
      ]
    },
    {
      "cell_type": "code",
      "source": [
        "# Q56.  Write a function that counts the occurrences of a specific substring within a NumPy array of strings.\n",
        "#  arr = np.array(['hello', 'world', 'hello', 'numpy', 'hello'])\n",
        "\n",
        "# Ans.\n",
        "\n",
        "def count_substring_occurrences(arr, substring):\n",
        "    \"\"\"\n",
        "    Counts the occurrences of a specific substring within a NumPy array of strings.\n",
        "\n",
        "    Args:\n",
        "        arr (np.ndarray): A NumPy array of strings.\n",
        "        substring (str): The substring to search for.\n",
        "\n",
        "    Returns:\n",
        "        int: The number of times the substring appears in the array.\n",
        "    \"\"\"\n",
        "    count = 0\n",
        "    for string in arr:\n",
        "        count += string.count(substring)\n",
        "    return count\n",
        "\n",
        "# Example usage:\n",
        "arr = np.array(['hello', 'world', 'hello', 'numpy', 'hello'])\n",
        "substring = 'hello'\n",
        "occurrences = count_substring_occurrences(arr, substring)\n",
        "print(f\"The substring '{substring}' appears {occurrences} times in the array.\")\n"
      ],
      "metadata": {
        "colab": {
          "base_uri": "https://localhost:8080/"
        },
        "id": "R0al3ejU7ddY",
        "outputId": "b7304b20-c41f-4b1d-f59e-3e97fc01a8ab"
      },
      "execution_count": 60,
      "outputs": [
        {
          "output_type": "stream",
          "name": "stdout",
          "text": [
            "The substring 'hello' appears 3 times in the array.\n"
          ]
        }
      ]
    },
    {
      "cell_type": "code",
      "source": [
        "# Q57. Write a function that extracts uppercase characters from a NumPy array of strings.\n",
        "#  arr = np.array(['Hello', 'World', 'OpenAI', 'GPT'])\n",
        "#  arr = np.array(['Hello', 'World', 'OpenAI', 'GPT'])\n",
        "\n",
        "# Ans.\n",
        "\n",
        "def extract_uppercase(arr):\n",
        "    \"\"\"\n",
        "    Extracts uppercase characters from a NumPy array of strings.\n",
        "\n",
        "    Args:\n",
        "        arr: A NumPy array of strings.\n",
        "\n",
        "    Returns:\n",
        "        A NumPy array containing only the uppercase characters from the input array.\n",
        "    \"\"\"\n",
        "    uppercase_chars = []\n",
        "    for string in arr:\n",
        "        for char in string:\n",
        "            if 'A' <= char <= 'Z':\n",
        "                uppercase_chars.append(char)\n",
        "    return np.array(uppercase_chars)\n",
        "\n",
        "arr = np.array(['Hello', 'World', 'OpenAI', 'GPT'])\n",
        "uppercase_array = extract_uppercase(arr)\n",
        "uppercase_array\n"
      ],
      "metadata": {
        "colab": {
          "base_uri": "https://localhost:8080/"
        },
        "id": "VG7FrF0b7qqJ",
        "outputId": "30e89c6f-af1c-45af-99db-8e177f983c29"
      },
      "execution_count": 61,
      "outputs": [
        {
          "output_type": "execute_result",
          "data": {
            "text/plain": [
              "array(['H', 'W', 'O', 'A', 'I', 'G', 'P', 'T'], dtype='<U1')"
            ]
          },
          "metadata": {},
          "execution_count": 61
        }
      ]
    },
    {
      "cell_type": "code",
      "source": [
        "# Q58. Write a function that replaces occurrences of a substring in a NumPy array of strings with a new string.\n",
        "#  arr = np.array(['apple', 'banana', 'grape', 'pineapple'])\n",
        "\n",
        "# Ans.\n",
        "\n",
        "def replace_substring(arr, old, new):\n",
        "    \"\"\"\n",
        "    Replaces occurrences of a substring in a NumPy array of strings.\n",
        "\n",
        "    Args:\n",
        "        arr (np.ndarray): The input array of strings.\n",
        "        old (str): The substring to be replaced.\n",
        "        new (str): The new substring.\n",
        "\n",
        "    Returns:\n",
        "        np.ndarray: A new array with the substrings replaced.\n",
        "    \"\"\"\n",
        "    new_arr = np.array([string.replace(old, new) for string in arr])\n",
        "    return new_arr\n",
        "\n",
        "# Example\n",
        "arr = np.array(['apple', 'banana', 'grape', 'pineapple'])\n",
        "new_arr = replace_substring(arr, 'apple', 'orange')\n",
        "new_arr\n"
      ],
      "metadata": {
        "colab": {
          "base_uri": "https://localhost:8080/"
        },
        "id": "SkV5KC_M76Jt",
        "outputId": "e5918aad-52c1-4ad2-cebe-2c2c6117a287"
      },
      "execution_count": 62,
      "outputs": [
        {
          "output_type": "execute_result",
          "data": {
            "text/plain": [
              "array(['orange', 'banana', 'grape', 'pineorange'], dtype='<U10')"
            ]
          },
          "metadata": {},
          "execution_count": 62
        }
      ]
    },
    {
      "cell_type": "code",
      "source": [
        "# Q59. Write a function that concatenates strings in a NumPy array element-wise.\n",
        "#  arr1 = np.array(['Hello', 'World'])\n",
        "#  arr2 = np.array(['Open', 'AI'])\n",
        "\n",
        "# Ans.\n",
        "\n",
        "def concatenate_strings(arr1, arr2):\n",
        "    \"\"\"\n",
        "    Concatenates strings in two NumPy arrays element-wise.\n",
        "\n",
        "    Args:\n",
        "        arr1: The first NumPy array of strings.\n",
        "        arr2: The second NumPy array of strings.\n",
        "\n",
        "    Returns:\n",
        "        A new NumPy array with the concatenated strings, or None if the input is invalid.\n",
        "    \"\"\"\n",
        "    if not isinstance(arr1, np.ndarray) or not isinstance(arr2, np.ndarray):\n",
        "        print(\"Error: Inputs must be NumPy arrays.\")\n",
        "        return None\n",
        "\n",
        "    if arr1.shape != arr2.shape:\n",
        "        print(\"Error: Input arrays must have the same shape.\")\n",
        "        return None\n",
        "\n",
        "    if arr1.dtype != 'U' or arr2.dtype != 'U':\n",
        "        print(\"Error: Input arrays must contain strings.\")\n",
        "        return None\n",
        "\n",
        "    return np.char.add(arr1, arr2)\n",
        "\n",
        "# Example usage\n",
        "arr1 = np.array(['Hello', 'World'])\n",
        "arr2 = np.array(['Open', 'AI'])\n",
        "result_array = concatenate_strings(arr1, arr2)\n",
        "result_array\n"
      ],
      "metadata": {
        "colab": {
          "base_uri": "https://localhost:8080/"
        },
        "id": "81XOD1BK8LD-",
        "outputId": "6f968f39-d780-4ef3-90de-706cf59fbdb6"
      },
      "execution_count": 64,
      "outputs": [
        {
          "output_type": "stream",
          "name": "stdout",
          "text": [
            "Error: Input arrays must contain strings.\n"
          ]
        }
      ]
    },
    {
      "cell_type": "code",
      "source": [
        "# Q60. Write a function that finds the length of the longest string in a NumPy array.\n",
        "#  arr = np.array(['apple', 'banana', 'grape', 'pineapple'])\n",
        "#  arr = np.array(['apple', 'banana', 'grape', 'pineapple'])\n",
        "\n",
        "# Ans.\n",
        "\n",
        "def longest_string_length(arr):\n",
        "    \"\"\"\n",
        "    Finds the length of the longest string in a NumPy array.\n",
        "\n",
        "    Args:\n",
        "        arr (np.ndarray): A NumPy array of strings.\n",
        "\n",
        "    Returns:\n",
        "        int: The length of the longest string in the array.\n",
        "             Returns 0 if the array is empty or contains non-string elements.\n",
        "    \"\"\"\n",
        "    if not isinstance(arr, np.ndarray):\n",
        "        print(\"Error: Input must be a NumPy array.\")\n",
        "        return 0\n",
        "\n",
        "    if arr.size == 0:\n",
        "        return 0\n",
        "\n",
        "    max_length = 0\n",
        "    for item in arr:\n",
        "        if isinstance(item, str):\n",
        "            max_length = max(max_length, len(item))\n",
        "        else:\n",
        "            print(\"Warning: Non-string element found in the array. Skipping.\")\n",
        "\n",
        "    return max_length\n",
        "\n",
        "arr = np.array(['apple', 'banana', 'grape', 'pineapple'])\n",
        "length = longest_string_length(arr)\n",
        "print(f\"The length of the longest string is: {length}\")\n"
      ],
      "metadata": {
        "colab": {
          "base_uri": "https://localhost:8080/"
        },
        "id": "mLPXGgR58Vx_",
        "outputId": "9ba81aae-e43e-4a23-bed8-b95a58ee152d"
      },
      "execution_count": 65,
      "outputs": [
        {
          "output_type": "stream",
          "name": "stdout",
          "text": [
            "The length of the longest string is: 9\n"
          ]
        }
      ]
    },
    {
      "cell_type": "code",
      "source": [
        "# Q61. Create a dataset of 100 random integers between 1 and 1000. Compute the mean, median, variance, and\n",
        "# standard deviation of the dataset using NumPy's functions.\n",
        "\n",
        "# Ans.\n",
        "\n",
        "# Create a dataset of 100 random integers between 1 and 1000\n",
        "data = np.random.randint(1, 1001, size=100)\n",
        "\n",
        "# Compute the mean\n",
        "mean = np.mean(data)\n",
        "print(f\"Mean: {mean}\")\n",
        "\n",
        "# Compute the median\n",
        "median = np.median(data)\n",
        "print(f\"Median: {median}\")\n",
        "\n",
        "# Compute the variance\n",
        "variance = np.var(data)\n",
        "print(f\"Variance: {variance}\")\n",
        "\n",
        "# Compute the standard deviation\n",
        "std_dev = np.std(data)\n",
        "print(f\"Standard Deviation: {std_dev}\")\n"
      ],
      "metadata": {
        "colab": {
          "base_uri": "https://localhost:8080/"
        },
        "id": "VJHQgRFH8mYE",
        "outputId": "67984c95-2a88-4717-da69-cd86c42c37a5"
      },
      "execution_count": 66,
      "outputs": [
        {
          "output_type": "stream",
          "name": "stdout",
          "text": [
            "Mean: 503.31\n",
            "Median: 516.5\n",
            "Variance: 89148.47389999998\n",
            "Standard Deviation: 298.5774169290102\n"
          ]
        }
      ]
    },
    {
      "cell_type": "code",
      "source": [
        "# Q62. Generate an array of 50 random numbers between 1 and 100. Find the 25th and 75th percentiles of the\n",
        "# dataset.\n",
        "\n",
        "# Ans.\n",
        "\n",
        "# Generate an array of 50 random numbers between 1 and 100\n",
        "random_numbers = np.random.randint(1, 101, size=50)\n",
        "\n",
        "# Find the 25th percentile\n",
        "percentile_25 = np.percentile(random_numbers, 25)\n",
        "print(f\"25th percentile: {percentile_25}\")\n",
        "\n",
        "# Find the 75th percentile\n",
        "percentile_75 = np.percentile(random_numbers, 75)\n",
        "print(f\"75th percentile: {percentile_75}\")\n"
      ],
      "metadata": {
        "colab": {
          "base_uri": "https://localhost:8080/"
        },
        "id": "nh2psEEV8zWl",
        "outputId": "c282d539-c027-496d-d2da-c96b3f88380a"
      },
      "execution_count": 67,
      "outputs": [
        {
          "output_type": "stream",
          "name": "stdout",
          "text": [
            "25th percentile: 23.0\n",
            "75th percentile: 73.5\n"
          ]
        }
      ]
    },
    {
      "cell_type": "code",
      "source": [
        "# Q63. Create two arrays representing two sets of variables. Compute the correlation coefficient between these\n",
        "# arrays using NumPy's `corrcoef` function.\n",
        "\n",
        "\n",
        "# Ans.\n",
        "\n",
        "def compute_correlation(arr1, arr2):\n",
        "    \"\"\"\n",
        "    Computes the correlation coefficient between two arrays.\n",
        "\n",
        "    Args:\n",
        "        arr1: The first array.\n",
        "        arr2: The second array.\n",
        "\n",
        "    Returns:\n",
        "        The correlation coefficient between the two arrays.\n",
        "        Returns None if the arrays have incompatible shapes or are not 1D.\n",
        "    \"\"\"\n",
        "    if not isinstance(arr1, np.ndarray) or not isinstance(arr2, np.ndarray):\n",
        "      print(\"Error: Inputs must be NumPy arrays.\")\n",
        "      return None\n",
        "    if arr1.ndim != 1 or arr2.ndim !=1:\n",
        "      print(\"Error: Input arrays must be 1D.\")\n",
        "      return None\n",
        "    if arr1.shape != arr2.shape:\n",
        "      print(\"Error: Input arrays must have the same shape.\")\n",
        "      return None\n",
        "\n",
        "    correlation_matrix = np.corrcoef(arr1, arr2)\n",
        "    return correlation_matrix[0, 1]\n",
        "\n",
        "# Example usage\n",
        "arr1 = np.array([1, 2, 3, 4, 5])\n",
        "arr2 = np.array([5, 4, 3, 2, 1])\n",
        "\n",
        "correlation_coefficient = compute_correlation(arr1, arr2)\n",
        "\n",
        "if correlation_coefficient is not None:\n",
        "    print(f\"Correlation Coefficient: {correlation_coefficient}\")\n"
      ],
      "metadata": {
        "colab": {
          "base_uri": "https://localhost:8080/"
        },
        "id": "OpUBKq2p9EWZ",
        "outputId": "3628806f-7070-44f6-882d-029cfb315415"
      },
      "execution_count": 68,
      "outputs": [
        {
          "output_type": "stream",
          "name": "stdout",
          "text": [
            "Correlation Coefficient: -0.9999999999999999\n"
          ]
        }
      ]
    },
    {
      "cell_type": "code",
      "source": [
        "# Q64. Create two matrices and perform matrix multiplication using NumPy's `dot` function.\n",
        "\n",
        "# Ans.\n",
        "\n",
        "def matrix_multiplication(matrix1, matrix2):\n",
        "    \"\"\"\n",
        "    Performs matrix multiplication using NumPy's dot function.\n",
        "\n",
        "    Args:\n",
        "        matrix1: The first matrix (NumPy array).\n",
        "        matrix2: The second matrix (NumPy array).\n",
        "\n",
        "    Returns:\n",
        "        The resulting matrix from the multiplication, or None if the matrices are incompatible.\n",
        "    \"\"\"\n",
        "    try:\n",
        "        result_matrix = np.dot(matrix1, matrix2)\n",
        "        return result_matrix\n",
        "    except ValueError as e:\n",
        "        print(f\"Error: {e}\")\n",
        "        return None\n",
        "\n",
        "# Example usage\n",
        "matrix_a = np.array([[1, 2], [3, 4]])\n",
        "matrix_b = np.array([[5, 6], [7, 8]])\n",
        "\n",
        "product_matrix = matrix_multiplication(matrix_a, matrix_b)\n",
        "\n",
        "if product_matrix is not None:\n",
        "  product_matrix\n"
      ],
      "metadata": {
        "id": "Ez9NnbYf9YZT"
      },
      "execution_count": 69,
      "outputs": []
    },
    {
      "cell_type": "code",
      "source": [
        "# Q65. Create an array of 50 integers between 10 and 1000. Calculate the 10th, 50th (median), and 90th\n",
        "# percentiles along with the first and third quartiles.\n",
        "\n",
        "# Ans.\n",
        "\n",
        "# Create an array of 50 integers between 10 and 1000\n",
        "data = np.random.randint(10, 1001, size=50)\n",
        "\n",
        "# Calculate percentiles and quartiles\n",
        "tenth_percentile = np.percentile(data, 10)\n",
        "fiftieth_percentile = np.percentile(data, 50)  # Median\n",
        "ninetieth_percentile = np.percentile(data, 90)\n",
        "first_quartile = np.percentile(data, 25)\n",
        "third_quartile = np.percentile(data, 75)\n",
        "\n",
        "print(\"10th Percentile:\", tenth_percentile)\n",
        "print(\"50th Percentile (Median):\", fiftieth_percentile)\n",
        "print(\"90th Percentile:\", ninetieth_percentile)\n",
        "print(\"First Quartile (25th Percentile):\", first_quartile)\n",
        "print(\"Third Quartile (75th Percentile):\", third_quartile)\n"
      ],
      "metadata": {
        "colab": {
          "base_uri": "https://localhost:8080/"
        },
        "id": "uc87wZDxBQH4",
        "outputId": "68e543e4-e6d9-4c46-828e-28f87999cdd4"
      },
      "execution_count": 70,
      "outputs": [
        {
          "output_type": "stream",
          "name": "stdout",
          "text": [
            "10th Percentile: 108.5\n",
            "50th Percentile (Median): 557.5\n",
            "90th Percentile: 883.5\n",
            "First Quartile (25th Percentile): 250.0\n",
            "Third Quartile (75th Percentile): 763.5\n"
          ]
        }
      ]
    },
    {
      "cell_type": "code",
      "source": [
        "# Q66. Create a NumPy array of integers and find the index of a specific element.\n",
        "\n",
        "# Ans.\n",
        "\n",
        "# Create a NumPy array of integers\n",
        "my_array = np.array([10, 25, 5, 40, 15, 30])\n",
        "\n",
        "# Find the index of a specific element (e.g., 40)\n",
        "element_to_find = 40\n",
        "index = np.where(my_array == element_to_find)\n",
        "\n",
        "# Print the index\n",
        "print(f\"The index of {element_to_find} is: {index[0][0]}\")\n"
      ],
      "metadata": {
        "colab": {
          "base_uri": "https://localhost:8080/"
        },
        "id": "T8BYqpVtBbnB",
        "outputId": "661e742f-70be-4ff4-e45e-372be8f00965"
      },
      "execution_count": 71,
      "outputs": [
        {
          "output_type": "stream",
          "name": "stdout",
          "text": [
            "The index of 40 is: 3\n"
          ]
        }
      ]
    },
    {
      "cell_type": "code",
      "source": [
        "# Q67. Generate a random NumPy array and sort it in ascending order.\n",
        "\n",
        "# Ans.\n",
        "\n",
        "# Generate a random NumPy array\n",
        "random_array = np.random.rand(10)  # Example: array of 10 random numbers\n",
        "\n",
        "# Sort the array in ascending order\n",
        "sorted_array = np.sort(random_array)\n",
        "\n",
        "print(\"Original array:\", random_array)\n",
        "print(\"Sorted array:\", sorted_array)\n"
      ],
      "metadata": {
        "colab": {
          "base_uri": "https://localhost:8080/"
        },
        "id": "mc5qFwzrBodY",
        "outputId": "6236afba-2fa3-4fc4-b2d9-6d9e06cf40cc"
      },
      "execution_count": 72,
      "outputs": [
        {
          "output_type": "stream",
          "name": "stdout",
          "text": [
            "Original array: [0.57363822 0.8082009  0.17305727 0.92816135 0.81956714 0.73082209\n",
            " 0.30048476 0.248377   0.05770313 0.31950221]\n",
            "Sorted array: [0.05770313 0.17305727 0.248377   0.30048476 0.31950221 0.57363822\n",
            " 0.73082209 0.8082009  0.81956714 0.92816135]\n"
          ]
        }
      ]
    },
    {
      "cell_type": "code",
      "source": [
        "# Q68. Filter elements >20  in the given NumPy array.\n",
        "#  arr = np.array([12, 25, 6, 42, 8, 30])\n",
        "\n",
        "# Ans.\n",
        "arr = np.array([12, 25, 6, 42, 8, 30])\n",
        "filtered_arr = arr[arr > 20]\n",
        "filtered_arr\n"
      ],
      "metadata": {
        "colab": {
          "base_uri": "https://localhost:8080/"
        },
        "id": "64feKrjRBxcq",
        "outputId": "89b99ca8-8d8b-4514-8186-d6598888fcb4"
      },
      "execution_count": 73,
      "outputs": [
        {
          "output_type": "execute_result",
          "data": {
            "text/plain": [
              "array([25, 42, 30])"
            ]
          },
          "metadata": {},
          "execution_count": 73
        }
      ]
    },
    {
      "cell_type": "code",
      "source": [
        "# Q69. Filter elements which are divisible by 3 from a given NumPy array.\n",
        "#  arr = np.array([1, 5, 8, 12, 15])\n",
        "\n",
        "# Ans.\n",
        "\n",
        "arr = np.array([1, 5, 8, 12, 15])\n",
        "filtered_arr = arr[arr % 3 == 0]\n",
        "filtered_arr\n"
      ],
      "metadata": {
        "colab": {
          "base_uri": "https://localhost:8080/"
        },
        "id": "_B5mA_H1B5GX",
        "outputId": "1f828d89-54f9-4176-d8cc-8bc4f1280df6"
      },
      "execution_count": 74,
      "outputs": [
        {
          "output_type": "execute_result",
          "data": {
            "text/plain": [
              "array([12, 15])"
            ]
          },
          "metadata": {},
          "execution_count": 74
        }
      ]
    },
    {
      "cell_type": "code",
      "source": [
        "# Q70. Filter elements which are ≥ 20 and ≤ 40 from a given NumPy array.\n",
        "#  arr = np.array([10, 20, 30, 40, 50])\n",
        "\n",
        "# Ans.\n",
        "\n",
        "arr = np.array([10, 20, 30, 40, 50])\n",
        "filtered_arr = arr[(arr >= 20) & (arr <= 40)]\n",
        "filtered_arr\n"
      ],
      "metadata": {
        "colab": {
          "base_uri": "https://localhost:8080/"
        },
        "id": "uN6NWYcxCAKk",
        "outputId": "9510f92d-515b-4dc1-ff2e-7fc48ddc1a7a"
      },
      "execution_count": 75,
      "outputs": [
        {
          "output_type": "execute_result",
          "data": {
            "text/plain": [
              "array([20, 30, 40])"
            ]
          },
          "metadata": {},
          "execution_count": 75
        }
      ]
    },
    {
      "cell_type": "code",
      "source": [
        "# Q71. For the given NumPy array, check its byte order using the `dtype` attribute byteorder.\n",
        "#  arr = np.array([1, 2, 3])\n",
        "\n",
        "# Ans.\n",
        "\n",
        "arr = np.array([1, 2, 3])\n",
        "arr.dtype.byteorder\n"
      ],
      "metadata": {
        "colab": {
          "base_uri": "https://localhost:8080/",
          "height": 35
        },
        "id": "FIWn45nICH-i",
        "outputId": "e499bae8-dc17-48e1-a4da-8f7d2dfb8aad"
      },
      "execution_count": 76,
      "outputs": [
        {
          "output_type": "execute_result",
          "data": {
            "text/plain": [
              "'='"
            ],
            "application/vnd.google.colaboratory.intrinsic+json": {
              "type": "string"
            }
          },
          "metadata": {},
          "execution_count": 76
        }
      ]
    },
    {
      "cell_type": "code",
      "source": [
        "# Q72. For the given NumPy array, perform byte swapping in place using `byteswap()`.\n",
        "#  arr = np.array([1, 2, 3], dtype=np.int32)\n",
        "\n",
        "# Ans.\n",
        "arr = np.array([1, 2, 3], dtype=np.int32)\n",
        "arr.byteswap(inplace=True)\n",
        "arr\n"
      ],
      "metadata": {
        "colab": {
          "base_uri": "https://localhost:8080/"
        },
        "id": "YgeMrDEOCRw8",
        "outputId": "52262389-f556-424f-d65b-ba4b48caf583"
      },
      "execution_count": 77,
      "outputs": [
        {
          "output_type": "execute_result",
          "data": {
            "text/plain": [
              "array([16777216, 33554432, 50331648], dtype=int32)"
            ]
          },
          "metadata": {},
          "execution_count": 77
        }
      ]
    },
    {
      "cell_type": "code",
      "source": [
        "# Q73. For the given NumPy array, swap its byte order without modifying the original array using\n",
        "# `newbyteorder()`.\n",
        "#  arr = np.array([1, 2, 3], dtype=np.int32)\n",
        "\n",
        "# Ans.\n",
        "\n",
        "arr = np.array([1, 2, 3], dtype=np.int32)\n",
        "new_arr = arr.newbyteorder()\n",
        "new_arr\n"
      ],
      "metadata": {
        "colab": {
          "base_uri": "https://localhost:8080/"
        },
        "id": "fySzz3koCZap",
        "outputId": "6e32101a-c83d-4c0d-a865-e6629b67a4ef"
      },
      "execution_count": 78,
      "outputs": [
        {
          "output_type": "execute_result",
          "data": {
            "text/plain": [
              "array([16777216, 33554432, 50331648], dtype='>i4')"
            ]
          },
          "metadata": {},
          "execution_count": 78
        }
      ]
    },
    {
      "cell_type": "code",
      "source": [
        "# Q74. For the given NumPy array and swap its byte order conditionally based on system endianness using\n",
        "# `newbyteorder()`.\n",
        "#  arr = np.array([1, 2, 3], dtype=np.int32)\n",
        "\n",
        "# Ans.\n",
        "\n",
        "arr = np.array([1, 2, 3], dtype=np.int32)\n",
        "new_arr = arr.newbyteorder('<' if arr.dtype.byteorder == '>' else '>')\n",
        "new_arr\n"
      ],
      "metadata": {
        "colab": {
          "base_uri": "https://localhost:8080/"
        },
        "id": "rakyS5IACiKp",
        "outputId": "e70d5fee-07d4-4b94-8fbd-3ed50b895770"
      },
      "execution_count": 79,
      "outputs": [
        {
          "output_type": "execute_result",
          "data": {
            "text/plain": [
              "array([16777216, 33554432, 50331648], dtype='>i4')"
            ]
          },
          "metadata": {},
          "execution_count": 79
        }
      ]
    },
    {
      "cell_type": "code",
      "source": [
        "# Q75. For the given NumPy array, check if byte swapping is necessary for the current system using `dtype`\n",
        "# attribute `byteorder`.\n",
        "#  arr = np.array([1, 2, 3], dtype=np.int32)\n",
        "\n",
        "# Ans.\n",
        "\n",
        "arr = np.array([1, 2, 3], dtype=np.int32)\n",
        "arr.dtype.byteorder\n"
      ],
      "metadata": {
        "colab": {
          "base_uri": "https://localhost:8080/",
          "height": 35
        },
        "id": "KGdw85k8Coqq",
        "outputId": "ccc8fd90-7520-4788-fd59-d76a3efde303"
      },
      "execution_count": 80,
      "outputs": [
        {
          "output_type": "execute_result",
          "data": {
            "text/plain": [
              "'='"
            ],
            "application/vnd.google.colaboratory.intrinsic+json": {
              "type": "string"
            }
          },
          "metadata": {},
          "execution_count": 80
        }
      ]
    },
    {
      "cell_type": "code",
      "source": [
        "# Q76. Create a NumPy array `arr1` with values from 1 to 10. Create a copy of `arr1` named `copy_arr` and modify\n",
        "# an element in `copy_arr`. Check if modifying `copy_arr` affects `arr1`.\n",
        "\n",
        "# Ans.\n",
        "\n",
        "# Create arr1 with values from 1 to 10\n",
        "arr1 = np.arange(1, 11)\n",
        "\n",
        "# Create a copy of arr1\n",
        "copy_arr = arr1.copy()\n",
        "\n",
        "# Modify an element in copy_arr\n",
        "copy_arr[0] = 99\n",
        "\n",
        "# Check if arr1 is affected\n",
        "print(\"Original array:\", arr1)\n",
        "print(\"Copied array:\", copy_arr)\n"
      ],
      "metadata": {
        "colab": {
          "base_uri": "https://localhost:8080/"
        },
        "id": "tTvuYP2ACwRR",
        "outputId": "c5d80a10-64e1-4167-d80c-1ccc2fa47769"
      },
      "execution_count": 81,
      "outputs": [
        {
          "output_type": "stream",
          "name": "stdout",
          "text": [
            "Original array: [ 1  2  3  4  5  6  7  8  9 10]\n",
            "Copied array: [99  2  3  4  5  6  7  8  9 10]\n"
          ]
        }
      ]
    },
    {
      "cell_type": "code",
      "source": [
        "# Q77. Create a 2D NumPy array `matrix` of shape (3, 3) with random integers. Extract a slice `view_slice` from\n",
        "# the matrix. Modify an element in `view_slice` and observe if it changes the original `matrix`.\n",
        "\n",
        "# Ans.\n",
        "\n",
        "# Create a 2D NumPy array with random integers\n",
        "matrix = np.random.randint(0, 10, size=(3, 3))\n",
        "\n",
        "# Extract a slice (view) from the matrix\n",
        "view_slice = matrix[0:2, 0:2]  # Example slice\n",
        "\n",
        "# Modify an element in the slice\n",
        "view_slice[0, 0] = 99\n",
        "\n",
        "# Check if the original matrix is modified\n",
        "print(\"Original matrix:\\n\", matrix)\n",
        "print(\"\\nModified slice:\\n\", view_slice)\n"
      ],
      "metadata": {
        "colab": {
          "base_uri": "https://localhost:8080/"
        },
        "id": "czCSHXVaC9_A",
        "outputId": "526ec400-8c06-437c-bdf5-b2b6fbfaa171"
      },
      "execution_count": 82,
      "outputs": [
        {
          "output_type": "stream",
          "name": "stdout",
          "text": [
            "Original matrix:\n",
            " [[99  5  3]\n",
            " [ 0  9  9]\n",
            " [ 0  0  4]]\n",
            "\n",
            "Modified slice:\n",
            " [[99  5]\n",
            " [ 0  9]]\n"
          ]
        }
      ]
    },
    {
      "cell_type": "code",
      "source": [
        "# Q78. Create a NumPy array `array_a` of shape (4, 3) with sequential integers from 1 to 12. Extract a slice\n",
        "# `view_b` from `array_a` and broadcast the addition of 5 to view_b. Check if it alters the original `array_a`.\n",
        "\n",
        "# Ans.\n",
        "\n",
        "# Create array_a\n",
        "array_a = np.arange(1, 13).reshape(4, 3)\n",
        "\n",
        "# Extract a slice (view)\n",
        "view_b = array_a[0:2, 0:2]\n",
        "\n",
        "# Broadcast addition of 5 to the slice\n",
        "view_b += 5\n",
        "\n",
        "# Check if the original array is modified\n",
        "print(\"Original array_a:\\n\", array_a)\n"
      ],
      "metadata": {
        "colab": {
          "base_uri": "https://localhost:8080/"
        },
        "id": "gmWTQkUqDGj0",
        "outputId": "6849ca29-4b5a-4f1b-a168-637cb669121b"
      },
      "execution_count": 83,
      "outputs": [
        {
          "output_type": "stream",
          "name": "stdout",
          "text": [
            "Original array_a:\n",
            " [[ 6  7  3]\n",
            " [ 9 10  6]\n",
            " [ 7  8  9]\n",
            " [10 11 12]]\n"
          ]
        }
      ]
    },
    {
      "cell_type": "code",
      "source": [
        "# Q79. Create a NumPy array `orig_array` of shape (2, 4) with values from 1 to 8. Create a reshaped view\n",
        "# `reshaped_view` of shape (4, 2) from orig_array. Modify an element in `reshaped_view` and check if it\n",
        "# reflects changes in the original `orig_array`.\n",
        "\n",
        "# Ans.\n",
        "\n",
        "# Create the original array\n",
        "orig_array = np.arange(1, 9).reshape(2, 4)\n",
        "\n",
        "# Create a reshaped view\n",
        "reshaped_view = orig_array.reshape(4, 2)\n",
        "\n",
        "# Modify an element in the reshaped view\n",
        "reshaped_view[0, 0] = 99\n",
        "\n",
        "# Check if the change is reflected in the original array\n",
        "print(\"Original array:\\n\", orig_array)\n",
        "print(\"\\nReshaped view:\\n\", reshaped_view)\n"
      ],
      "metadata": {
        "colab": {
          "base_uri": "https://localhost:8080/"
        },
        "id": "NMnq5wIoDlgY",
        "outputId": "25032b03-96ed-4751-9898-e6d9f751f342"
      },
      "execution_count": 84,
      "outputs": [
        {
          "output_type": "stream",
          "name": "stdout",
          "text": [
            "Original array:\n",
            " [[99  2  3  4]\n",
            " [ 5  6  7  8]]\n",
            "\n",
            "Reshaped view:\n",
            " [[99  2]\n",
            " [ 3  4]\n",
            " [ 5  6]\n",
            " [ 7  8]]\n"
          ]
        }
      ]
    },
    {
      "cell_type": "code",
      "source": [
        "# Q80. Create a NumPy array `data` of shape (3, 4) with random integers. Extract a copy `data_copy` of\n",
        "# elements greater than 5. Modify an element in `data_copy` and verify if it affects the original `data`.\n",
        "\n",
        "# Ans.\n",
        "\n",
        "# Create a NumPy array with random integers\n",
        "data = np.random.randint(0, 10, size=(3, 4))\n",
        "\n",
        "# Extract a copy of elements greater than 5\n",
        "data_copy = data[data > 5].copy()\n",
        "\n",
        "# Modify an element in data_copy\n",
        "data_copy[0] = 99\n",
        "\n",
        "# Verify if the original data is affected\n",
        "print(\"Original data:\\n\", data)\n",
        "print(\"\\nModified data_copy:\\n\", data_copy)\n"
      ],
      "metadata": {
        "colab": {
          "base_uri": "https://localhost:8080/"
        },
        "id": "EiaoCsWHDtn-",
        "outputId": "c8c7ac8a-b599-4648-a552-f0cee5fa224c"
      },
      "execution_count": 85,
      "outputs": [
        {
          "output_type": "stream",
          "name": "stdout",
          "text": [
            "Original data:\n",
            " [[7 3 4 5]\n",
            " [3 5 8 6]\n",
            " [9 0 8 4]]\n",
            "\n",
            "Modified data_copy:\n",
            " [99  8  6  9  8]\n"
          ]
        }
      ]
    },
    {
      "cell_type": "code",
      "source": [
        "# Q81. Create two matrices A and B of identical shape containing integers and perform addition and subtraction\n",
        "# operations between them.\n",
        "\n",
        "# Ans.\n",
        "\n",
        "# Create two matrices A and B of identical shape\n",
        "shape = (3, 3)  # Example shape, you can change this\n",
        "A = np.random.randint(0, 10, size=shape)\n",
        "B = np.random.randint(0, 10, size=shape)\n",
        "\n",
        "# Perform addition\n",
        "addition_result = A + B\n",
        "print(\"Addition Result:\\n\", addition_result)\n",
        "\n",
        "# Perform subtraction\n",
        "subtraction_result = A - B\n",
        "print(\"Subtraction Result:\\n\", subtraction_result)\n"
      ],
      "metadata": {
        "colab": {
          "base_uri": "https://localhost:8080/"
        },
        "id": "y8CLsanyD10a",
        "outputId": "a4225a0e-5418-44db-878e-cc4f2bcf5a59"
      },
      "execution_count": 86,
      "outputs": [
        {
          "output_type": "stream",
          "name": "stdout",
          "text": [
            "Addition Result:\n",
            " [[10  9 11]\n",
            " [ 9 16 11]\n",
            " [10 11 12]]\n",
            "Subtraction Result:\n",
            " [[ 4  5 -1]\n",
            " [-3 -2 -3]\n",
            " [-8  3  4]]\n"
          ]
        }
      ]
    },
    {
      "cell_type": "code",
      "source": [
        "# Q82. Generate two matrices `C` (3x2) and `D` (2x4) and perform matrix multiplication.\n",
        "\n",
        "# Ans.\n",
        "\n",
        "# Generate matrix C (3x2)\n",
        "C = np.random.randint(0, 10, size=(3, 2))\n",
        "\n",
        "# Generate matrix D (2x4)\n",
        "D = np.random.randint(0, 10, size=(2, 4))\n",
        "\n",
        "# Perform matrix multiplication\n",
        "result_matrix = np.dot(C, D)\n",
        "\n",
        "# Print the result\n",
        "print(\"Matrix C:\\n\", C)\n",
        "print(\"\\nMatrix D:\\n\", D)\n",
        "print(\"\\nResultant Matrix (C x D):\\n\", result_matrix)\n"
      ],
      "metadata": {
        "colab": {
          "base_uri": "https://localhost:8080/"
        },
        "id": "3dldSa-fD9sL",
        "outputId": "edd11050-8e02-4d00-bb74-54f74ccd0243"
      },
      "execution_count": 87,
      "outputs": [
        {
          "output_type": "stream",
          "name": "stdout",
          "text": [
            "Matrix C:\n",
            " [[4 9]\n",
            " [9 1]\n",
            " [2 2]]\n",
            "\n",
            "Matrix D:\n",
            " [[0 3 6 5]\n",
            " [3 8 8 6]]\n",
            "\n",
            "Resultant Matrix (C x D):\n",
            " [[27 84 96 74]\n",
            " [ 3 35 62 51]\n",
            " [ 6 22 28 22]]\n"
          ]
        }
      ]
    },
    {
      "cell_type": "code",
      "source": [
        "# Q83. Create a matrix `E` and find its transpose.\n",
        "\n",
        "# Ans.\n",
        "\n",
        "# Create matrix E (example 3x2 matrix)\n",
        "E = np.array([[1, 2],\n",
        "              [3, 4],\n",
        "              [5, 6]])\n",
        "\n",
        "# Find the transpose of matrix E\n",
        "E_transpose = np.transpose(E)\n",
        "\n",
        "# Print the original and transposed matrices\n",
        "print(\"Original Matrix E:\\n\", E)\n",
        "print(\"\\nTranspose of Matrix E:\\n\", E_transpose)\n"
      ],
      "metadata": {
        "colab": {
          "base_uri": "https://localhost:8080/"
        },
        "id": "lR9p_HI2EFnU",
        "outputId": "4401b3ab-1384-4edb-b40e-4f200c299556"
      },
      "execution_count": 88,
      "outputs": [
        {
          "output_type": "stream",
          "name": "stdout",
          "text": [
            "Original Matrix E:\n",
            " [[1 2]\n",
            " [3 4]\n",
            " [5 6]]\n",
            "\n",
            "Transpose of Matrix E:\n",
            " [[1 3 5]\n",
            " [2 4 6]]\n"
          ]
        }
      ]
    },
    {
      "cell_type": "code",
      "source": [
        "# Q84. Generate a square matrix `F` and compute its determinant.\n",
        "\n",
        "# Ans.\n",
        "\n",
        "# Create a square matrix F (example 3x3 matrix)\n",
        "F = np.array([[1, 2, 3],\n",
        "              [4, 5, 6],\n",
        "              [7, 8, 9]])\n",
        "\n",
        "# Compute the determinant of matrix F\n",
        "determinant_F = np.linalg.det(F)\n",
        "\n",
        "# Print the determinant\n",
        "print(\"Matrix F:\\n\", F)\n",
        "print(\"\\nDeterminant of Matrix F:\", determinant_F)\n"
      ],
      "metadata": {
        "colab": {
          "base_uri": "https://localhost:8080/"
        },
        "id": "XvSmDLn-EPG1",
        "outputId": "1d7145fd-c337-415b-812c-0d8fc4df072a"
      },
      "execution_count": 89,
      "outputs": [
        {
          "output_type": "stream",
          "name": "stdout",
          "text": [
            "Matrix F:\n",
            " [[1 2 3]\n",
            " [4 5 6]\n",
            " [7 8 9]]\n",
            "\n",
            "Determinant of Matrix F: 0.0\n"
          ]
        }
      ]
    },
    {
      "cell_type": "code",
      "source": [
        "# Q85. Create a square matrix `G` and find its inverse.\n",
        "\n",
        "# Ans.\n",
        "# Create a square matrix G\n",
        "G = np.array([[1, 2],\n",
        "              [3, 4]])\n",
        "\n",
        "# Compute the inverse of matrix G\n",
        "G_inverse = np.linalg.inv(G)\n",
        "\n",
        "# Print the original and inverse matrices\n",
        "print(\"Original Matrix G:\\n\", G)\n",
        "print(\"\\nInverse of Matrix G:\\n\", G_inverse)\n"
      ],
      "metadata": {
        "colab": {
          "base_uri": "https://localhost:8080/"
        },
        "id": "_rKp1N3_EXzr",
        "outputId": "17be86cb-7a1b-48de-fd37-668710e30a67"
      },
      "execution_count": 90,
      "outputs": [
        {
          "output_type": "stream",
          "name": "stdout",
          "text": [
            "Original Matrix G:\n",
            " [[1 2]\n",
            " [3 4]]\n",
            "\n",
            "Inverse of Matrix G:\n",
            " [[-2.   1. ]\n",
            " [ 1.5 -0.5]]\n"
          ]
        }
      ]
    },
    {
      "cell_type": "code",
      "source": [],
      "metadata": {
        "id": "XXETHgUdEiMX"
      },
      "execution_count": null,
      "outputs": []
    }
  ]
}